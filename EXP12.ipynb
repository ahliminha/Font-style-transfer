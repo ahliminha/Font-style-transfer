{
  "nbformat": 4,
  "nbformat_minor": 0,
  "metadata": {
    "colab": {
      "name": "EXP12.ipynb",
      "version": "0.3.2",
      "provenance": [],
      "collapsed_sections": []
    },
    "kernelspec": {
      "name": "python3",
      "display_name": "Python 3"
    },
    "accelerator": "GPU"
  },
  "cells": [
    {
      "cell_type": "code",
      "metadata": {
        "id": "TLgjs2CRf33o",
        "colab_type": "code",
        "colab": {
          "base_uri": "https://localhost:8080/",
          "height": 35
        },
        "outputId": "80ad7167-d4be-4bf0-c6b7-8f907aabf8eb"
      },
      "source": [
        "import keras\n",
        "import sklearn as sk\n",
        "import skimage as ski\n",
        "import pandas as pd\n",
        "import numpy as np\n",
        "import matplotlib.pyplot as plt \n",
        "import scipy.io as spio\n",
        "import PIL\n",
        "from PIL import ImageFont\n",
        "from PIL import Image\n",
        "from PIL import ImageDraw\n",
        "import random\n",
        "from google.colab import drive\n",
        "np.random.seed(816)\n",
        "random.seed(979)"
      ],
      "execution_count": 2,
      "outputs": [
        {
          "output_type": "stream",
          "text": [
            "Using TensorFlow backend.\n"
          ],
          "name": "stderr"
        }
      ]
    },
    {
      "cell_type": "code",
      "metadata": {
        "id": "l5IbDewgz1WU",
        "colab_type": "code",
        "colab": {
          "base_uri": "https://localhost:8080/",
          "height": 92
        },
        "outputId": "982b33b2-6474-49d6-c726-0e6f0ef7919e"
      },
      "source": [
        "#Parametros do experimento (mexer nesta parte)\n",
        "\n",
        "#Nome do experimento (sera usado para salvar relatorio e como prefixo para imagens na pasta Results do drive)\n",
        "EXPERIMENT_NAME = \"EXP_12\"\n",
        "\n",
        "#Parametros da arquitetura\n",
        "N_LAYERS = 2 #Numero de repetições das camadas convolucionais intermediarias (recomendado de 2 a 4)\n",
        "POOLING_PROPORTION = 2 #Deve dividir o lado da imagem de entrada (parametro abaixo)\n",
        "POOLING_SHAPE = (POOLING_PROPORTION, POOLING_PROPORTION) #Proporção de pooling usado\n",
        "ACTIVATION_FUNCTION = keras.layers.LeakyReLU() #Função de ativação\n",
        "OPTMIZER = opt = keras.optimizers.Adam() #Otimizador usado\n",
        "DROPOUT_RATE = 0.25\n",
        "LOSS_FUNCTION = keras.losses.mean_squared_logarithmic_error #Função de perda\n",
        "\n",
        "#Parametros do treinamento\n",
        "METRICS_LIST = ['MAE'] #Metricas exibidas (não interferem no treinamento)\n",
        "BATCH_SIZE = 4 #Tamanho de batch (16 recomendado pelo autor original, mas reduzir acelera o treino. Excesso pode estourar a ram. Recomendavel manter potencias de 2)\n",
        "EPOCHS_NUM = 15 #numero de epocas usada (influencia proporcionalmente o tempo de treino)\n",
        "\n",
        "#Caracteristicas da entrada\n",
        "FOREIGN_ALPHABET_PATH = 'Caracteres Chineses/top_3000_traditional.txt'#CAminho para lista de caracteres usada (não a fonte)\n",
        "INPUT_TTF_FILE_NAME = 'wt034.ttf' #Arquivo da fonte de entrada\n",
        "OUTPUT_TTF_FILE_NAME = 'wts11.ttf' #Arquivo da fonte de saida\n",
        "\n",
        "INPUT_IMG_SIDE = 160 #Tamanho do lado da imagem de entrada\n",
        "OUTPUT_IMG_SIDE = INPUT_IMG_SIDE//POOLING_PROPORTION #Tamanho do lado da imagem de saida \n",
        "INPUT_SHAPE = (INPUT_IMG_SIDE, INPUT_IMG_SIDE) #Formato da imagem de entrada\n",
        "OUTPUT_SHAPE = (OUTPUT_IMG_SIDE, OUTPUT_IMG_SIDE) #formato da imagem de saida\n",
        "\n",
        "FREE_EDGE = 2 #Borda usada para considerar se uma imagem foi ou não cortada\n",
        "CENTRALIZED_IMAGES = True #Diz se deve centralizar as imagens\n",
        "\n",
        "INPUT_FONT_SIZE = 157 #None para calcular automaticamente (Uns 20 segundoss a mais)\n",
        "OUTPUT_FONT_SIZE = 74 #None para calcular automaticamente (Uns 20 segundoss a mais)\n",
        "\n",
        "IMAGE_TYPE = '1' #'1' para imagem binaria, 'L' para grayscale \n",
        "BACKGROUND_VALUE = 1 #1 para imagem binaria, 255 para grayscale\n",
        "\n",
        "#Outros\n",
        "RESULTS_PATH = '/content/gdrive/Team Drives/EA979/Results/'#Caminho para resultados\n",
        "\n",
        "TRAIN_VALIDATE_SET_SIZE = None #Numero de elementos para serem usados no treino e validação (de preferência par), None para usar tudo\n",
        "\n",
        "NUM_FOREIGN_TEST = None #Numero de caracteres entrangeiros usados no conjunto de teste. None para ser o numero de caracteres nao estrangeiros"
      ],
      "execution_count": 3,
      "outputs": [
        {
          "output_type": "stream",
          "text": [
            "WARNING: Logging before flag parsing goes to stderr.\n",
            "W0613 22:51:30.649907 140306674476928 deprecation_wrapper.py:119] From /usr/local/lib/python3.6/dist-packages/keras/backend/tensorflow_backend.py:74: The name tf.get_default_graph is deprecated. Please use tf.compat.v1.get_default_graph instead.\n",
            "\n"
          ],
          "name": "stderr"
        }
      ]
    },
    {
      "cell_type": "markdown",
      "metadata": {
        "id": "XWWPvAJQxCeC",
        "colab_type": "text"
      },
      "source": [
        "Abre drive"
      ]
    },
    {
      "cell_type": "code",
      "metadata": {
        "id": "3m7Lj0_nxBp9",
        "colab_type": "code",
        "outputId": "54b05888-fd0b-4f97-f1ec-c2c31ab41a0b",
        "colab": {
          "base_uri": "https://localhost:8080/",
          "height": 129
        }
      },
      "source": [
        "drive.mount('/content/gdrive')"
      ],
      "execution_count": 4,
      "outputs": [
        {
          "output_type": "stream",
          "text": [
            "Go to this URL in a browser: https://accounts.google.com/o/oauth2/auth?client_id=947318989803-6bn6qk8qdgf4n4g3pfee6491hc0brc4i.apps.googleusercontent.com&redirect_uri=urn%3Aietf%3Awg%3Aoauth%3A2.0%3Aoob&scope=email%20https%3A%2F%2Fwww.googleapis.com%2Fauth%2Fdocs.test%20https%3A%2F%2Fwww.googleapis.com%2Fauth%2Fdrive%20https%3A%2F%2Fwww.googleapis.com%2Fauth%2Fdrive.photos.readonly%20https%3A%2F%2Fwww.googleapis.com%2Fauth%2Fpeopleapi.readonly&response_type=code\n",
            "\n",
            "Enter your authorization code:\n",
            "··········\n",
            "Mounted at /content/gdrive\n"
          ],
          "name": "stdout"
        }
      ]
    },
    {
      "cell_type": "markdown",
      "metadata": {
        "id": "oKZ_3jFGqF0r",
        "colab_type": "text"
      },
      "source": [
        "Salva caminhos para os dados"
      ]
    },
    {
      "cell_type": "code",
      "metadata": {
        "id": "HY8pMQrcwmfH",
        "colab_type": "code",
        "colab": {}
      },
      "source": [
        "root_path_output_ttf = '/content/gdrive/Team Drives/EA979/fontesTTF/' + INPUT_TTF_FILE_NAME #fonte de entrada\n",
        "root_path_input_ttf = '/content/gdrive/Team Drives/EA979/fontesTTF/' + OUTPUT_TTF_FILE_NAME #fonte de saida\n",
        "root_path_foreign_alphabet = '/content/gdrive/Team Drives/EA979/' + FOREIGN_ALPHABET_PATH #lista de caracteres no alfabeto usado"
      ],
      "execution_count": 0,
      "outputs": []
    },
    {
      "cell_type": "markdown",
      "metadata": {
        "id": "fatiuztulgws",
        "colab_type": "text"
      },
      "source": [
        "Funções para salvar texto no relatorio e imagens (nomes começando com o nome do experimento) "
      ]
    },
    {
      "cell_type": "code",
      "metadata": {
        "id": "Wf2tBhytcp8O",
        "colab_type": "code",
        "colab": {}
      },
      "source": [
        "def saveText(text):\n",
        "  f = open(RESULTS_PATH + EXPERIMENT_NAME + '.txt', \"a\")\n",
        "  f.write(text + '\\n')\n",
        "  f.close()"
      ],
      "execution_count": 0,
      "outputs": []
    },
    {
      "cell_type": "code",
      "metadata": {
        "id": "G4orWKS_dOf9",
        "colab_type": "code",
        "colab": {}
      },
      "source": [
        "def saveImage(img, name, description):\n",
        "  #Salva imagem na pasta\n",
        "  ski.io.imsave(RESULTS_PATH + EXPERIMENT_NAME + '_' + name + '.png', img)\n",
        "  #Salva descrição e nome da imagem no relatório\n",
        "  f = open(RESULTS_PATH + EXPERIMENT_NAME + '.txt', \"a\")\n",
        "  f.write(description + ': ' + name + '.png \\n')\n",
        "  f.close()"
      ],
      "execution_count": 0,
      "outputs": []
    },
    {
      "cell_type": "code",
      "metadata": {
        "id": "FPjEb4_46xVP",
        "colab_type": "code",
        "colab": {}
      },
      "source": [
        "def saveGraph(name, description):\n",
        "  #Salva imagem na pasta\n",
        "  plt.savefig(RESULTS_PATH + EXPERIMENT_NAME + '_' + name + '.png')\n",
        "  #Salva descrição e nome da imagem no relatório\n",
        "  f = open(RESULTS_PATH + EXPERIMENT_NAME + '.txt', \"a\")\n",
        "  f.write(description + ': ' + name + '.png \\n')\n",
        "  f.close()"
      ],
      "execution_count": 0,
      "outputs": []
    },
    {
      "cell_type": "markdown",
      "metadata": {
        "id": "H7R6dV50qOp3",
        "colab_type": "text"
      },
      "source": [
        "\"Cria lista de imagens da fonte selecionada\""
      ]
    },
    {
      "cell_type": "code",
      "metadata": {
        "id": "NvCMwnd8zTuE",
        "colab_type": "code",
        "colab": {}
      },
      "source": [
        "#Define alfabetos usados\n",
        "      \n",
        "#lista de caracteres romanos e numerais\n",
        "romanCharsLower = 'a b c d e f g h i j k l m n o p q r s t u v w x y z'.split()\n",
        "romanCharsUpper = 'A B C D E F G H I J K L M N O P Q R S T U V W X Y Z'.split()\n",
        "numerals = '0 1 2 3 4 5 6 7 8 9'.split()\n",
        "\n",
        "#Numero de caracteres nao estrangeiros\n",
        "nonForeignLen = len(romanCharsLower) + len(romanCharsUpper) + len(numerals)\n",
        "\n",
        "#lista caracteres estrangeiros\n",
        "if len(root_path_foreign_alphabet) != 0:\n",
        "  foreignChars = open(root_path_foreign_alphabet).read().split()\n",
        "else:\n",
        "  foreignChars = []"
      ],
      "execution_count": 0,
      "outputs": []
    },
    {
      "cell_type": "code",
      "metadata": {
        "id": "3I8epjxhrTYA",
        "colab_type": "code",
        "colab": {}
      },
      "source": [
        "#Retorna imagem do caractere \n",
        "def drawChar(char, shape, font):\n",
        "  img = Image.new(IMAGE_TYPE, shape, BACKGROUND_VALUE)\n",
        "  draw = ImageDraw.Draw(img)\n",
        "  draw.text((FREE_EDGE + 1, FREE_EDGE + 1),char, 0 ,font=font)\n",
        "  draw = ImageDraw.Draw(img)\n",
        "  return np.array(img)"
      ],
      "execution_count": 0,
      "outputs": []
    },
    {
      "cell_type": "code",
      "metadata": {
        "id": "BJsCs1yKPkUs",
        "colab_type": "code",
        "colab": {}
      },
      "source": [
        "#Verifica se o caractere nnão esta cortado (verifica se borda da imagem é branca)\n",
        "def fullCharacterExposed(img):\n",
        "  for index in range(0, FREE_EDGE):\n",
        "    if False in (img[index, :] == BACKGROUND_VALUE):\n",
        "      return False\n",
        "    if False in (img[img.shape[0] - 1 - index, :] == BACKGROUND_VALUE):\n",
        "      return False\n",
        "    if False in (img[:, index] == BACKGROUND_VALUE):\n",
        "      return False\n",
        "    if False in (img[:, img.shape[1] - 1 - index] == BACKGROUND_VALUE):\n",
        "      return False\n",
        "    \n",
        "  return True"
      ],
      "execution_count": 0,
      "outputs": []
    },
    {
      "cell_type": "code",
      "metadata": {
        "id": "KQeOBOPcq4J1",
        "colab_type": "code",
        "colab": {}
      },
      "source": [
        "#Centraliza o caractere na imagem\n",
        "\n",
        "import numpy as np\n",
        "import math\n",
        "\n",
        "def centralizeImage(img):\n",
        "  original_shape = img.shape\n",
        "  if(len(original_shape) >  2):\n",
        "    img = img.reshape(original_shape[0], original_shape[1])\n",
        "  \n",
        "  left_limit = 0\n",
        "  while(left_limit < img.shape[1] and (False not in (img[:,left_limit] == BACKGROUND_VALUE))):\n",
        "    left_limit += 1\n",
        "\n",
        "  right_limit = img.shape[1] - 1\n",
        "  while(right_limit >= 0 and (False not in (img[:,right_limit] == BACKGROUND_VALUE))):\n",
        "    right_limit -= 1\n",
        "  \n",
        "  upper_limit = 0\n",
        "  while(upper_limit < img.shape[0] and (False not in (img[upper_limit,:] == BACKGROUND_VALUE))):\n",
        "    upper_limit += 1\n",
        "  \n",
        "  lower_limit = img.shape[0] - 1\n",
        "  while(lower_limit >= 0 and (False not in (img[lower_limit,:] == BACKGROUND_VALUE))):\n",
        "    lower_limit -= 1\n",
        "  \n",
        "  hshift = math.ceil((img.shape[1] - right_limit - left_limit - 1)/2)\n",
        "  vshift = math.ceil((img.shape[0] - lower_limit - upper_limit - 1)/2)\n",
        "  \n",
        "  hpadding = np.zeros((img.shape[0], abs(hshift)), np.uint8)\n",
        "  hpadding[:, :] = BACKGROUND_VALUE\n",
        "\n",
        "  if hshift > 1:\n",
        "    img = np.hstack((hpadding, img[:, :-hshift]))\n",
        "                    \n",
        "  elif hshift < -1:\n",
        "    img = np.hstack((img[:, -hshift:], hpadding))\n",
        "\n",
        "  vpadding = np.zeros((abs(vshift), img.shape[0]), np.uint8)\n",
        "  vpadding[:, :] = BACKGROUND_VALUE\n",
        "\n",
        "  if vshift > 1:\n",
        "    img = np.vstack((vpadding, img[:-vshift, :]))\n",
        "\n",
        "  elif vshift < -1:\n",
        "    img = np.vstack((img[-vshift:, :], vpadding))\n",
        "\n",
        "  return img.reshape(original_shape)    "
      ],
      "execution_count": 0,
      "outputs": []
    },
    {
      "cell_type": "code",
      "metadata": {
        "id": "czQ5Bca8SkkO",
        "colab_type": "code",
        "colab": {}
      },
      "source": [
        "#Gera lista de imagens com os caracteres ja gerados na fonte selecionada\n",
        "\n",
        "def generateImageList(font, shape):\n",
        "  image_list = []\n",
        "  \n",
        "  for char in romanCharsUpper:\n",
        "    img = drawChar(char, shape, font)\n",
        "    image_list.append(img)\n",
        "  \n",
        "  for char in romanCharsLower:\n",
        "    img = drawChar(char, shape, font)\n",
        "    image_list.append(img)\n",
        "    \n",
        "  for char in numerals:\n",
        "    img = drawChar(char, shape, font)\n",
        "    image_list.append(img)\n",
        "  \n",
        "  for char in foreignChars:\n",
        "    img = drawChar(char, shape, font)\n",
        "    image_list.append(img)\n",
        "  \n",
        "  if CENTRALIZED_IMAGES:\n",
        "    for index in range(0, len(image_list)):\n",
        "      image_list[index] = centralizeImage(image_list[index])\n",
        "  \n",
        "  return image_list"
      ],
      "execution_count": 0,
      "outputs": []
    },
    {
      "cell_type": "code",
      "metadata": {
        "id": "s9g90tQKXtuH",
        "colab_type": "code",
        "colab": {}
      },
      "source": [
        "#Retorna maior tamanho de fonte que nao ultrapasse os limites do formato definifo\n",
        "\n",
        "import skimage as ski\n",
        "def bestFontSize(font_path, shape):\n",
        "  #Faz busca binaria no tamanho da fonte\n",
        "  min_size = 1\n",
        "  max_size = max(shape[0], shape[1])\n",
        "  while min_size < max_size:\n",
        "    mid = (min_size + max_size + 1)//2\n",
        "    font = ImageFont.truetype(font_path, size = mid)\n",
        "    image_list = generateImageList(font, shape)\n",
        "    list_ok = True\n",
        "    for element in image_list:\n",
        "      if fullCharacterExposed(element) == False:\n",
        "        list_ok = False\n",
        "        break\n",
        "    \n",
        "    if list_ok:\n",
        "      min_size = mid\n",
        "    \n",
        "    else:\n",
        "      max_size = mid - 1\n",
        "  \n",
        "  return min_size\n",
        "        "
      ],
      "execution_count": 0,
      "outputs": []
    },
    {
      "cell_type": "code",
      "metadata": {
        "id": "kYyOj-GiTpMD",
        "colab_type": "code",
        "outputId": "6cae3e69-908c-4b60-f412-250819a17538",
        "colab": {
          "base_uri": "https://localhost:8080/",
          "height": 54
        }
      },
      "source": [
        "#Se os tamanhos das fontes nao forem definidos na entrada, encontra valores para esses\n",
        "if INPUT_FONT_SIZE == None:\n",
        "  INPUT_FONT_SIZE = bestFontSize(root_path_input_ttf, INPUT_SHAPE)\n",
        "  \n",
        "if OUTPUT_FONT_SIZE == None:\n",
        "  OUTPUT_FONT_SIZE = bestFontSize(root_path_output_ttf, OUTPUT_SHAPE)\n",
        "\n",
        "print(INPUT_FONT_SIZE)\n",
        "print(OUTPUT_FONT_SIZE)"
      ],
      "execution_count": 15,
      "outputs": [
        {
          "output_type": "stream",
          "text": [
            "157\n",
            "74\n"
          ],
          "name": "stdout"
        }
      ]
    },
    {
      "cell_type": "code",
      "metadata": {
        "id": "95XMZZIt1BRz",
        "colab_type": "code",
        "colab": {}
      },
      "source": [
        "#Gera fontes\n",
        "inputFont = ImageFont.truetype(root_path_input_ttf, size = INPUT_FONT_SIZE) #Importa fonte usada\n",
        "outputFont = ImageFont.truetype(root_path_output_ttf, size = OUTPUT_FONT_SIZE) #Importa fonte usada"
      ],
      "execution_count": 0,
      "outputs": []
    },
    {
      "cell_type": "code",
      "metadata": {
        "id": "KOPATwcTDQiL",
        "colab_type": "code",
        "colab": {}
      },
      "source": [
        "#Gera listas de imagens\n",
        "input_images = generateImageList(inputFont, INPUT_SHAPE)\n",
        "output_images = generateImageList(outputFont, OUTPUT_SHAPE)"
      ],
      "execution_count": 0,
      "outputs": []
    },
    {
      "cell_type": "markdown",
      "metadata": {
        "id": "Uz8uZnHKvtE9",
        "colab_type": "text"
      },
      "source": [
        "Transforma lista de imagens em vetor numpy"
      ]
    },
    {
      "cell_type": "code",
      "metadata": {
        "id": "eNWaRZ8E-hwo",
        "colab_type": "code",
        "colab": {}
      },
      "source": [
        "#Passa lista de imagens para tensor unico\n",
        "\n",
        "import numpy as np\n",
        "\n",
        "def imageList2NumpyList(image_list):\n",
        "  numpy_list = []\n",
        "  for index in range(0, len(image_list)):\n",
        "    tensor = np.zeros(image_list[index].shape, np.uint8) #Cria vetor\n",
        "    tensor = image_list[index] #atribui valores da image\n",
        "    tensor = tensor.reshape(tensor.shape[0], tensor.shape[1], 1) #Adiciona dimensão para numero de canais\n",
        "    numpy_list.append(tensor)\n",
        "  return numpy_list\n",
        "    "
      ],
      "execution_count": 0,
      "outputs": []
    },
    {
      "cell_type": "code",
      "metadata": {
        "id": "MuCwMzK3EZ06",
        "colab_type": "code",
        "colab": {}
      },
      "source": [
        "#Passa lista de imagens para tensor unico\n",
        "\n",
        "input_tensors = np.array(imageList2NumpyList(input_images))\n",
        "output_tensors = np.array(imageList2NumpyList(output_images))"
      ],
      "execution_count": 0,
      "outputs": []
    },
    {
      "cell_type": "markdown",
      "metadata": {
        "id": "LY-n1xLH2bkM",
        "colab_type": "text"
      },
      "source": [
        "Separa conjunto de treinamento, validação e de teste"
      ]
    },
    {
      "cell_type": "code",
      "metadata": {
        "id": "4E29qxmI06mQ",
        "colab_type": "code",
        "colab": {}
      },
      "source": [
        "#Conjunto inicial de indices\n",
        "valid_indexes = [x for x in range(nonForeignLen, len(input_tensors))]\n",
        "\n",
        "remaining_indexes = []\n",
        "\n",
        "#Elimina imagens que nao foram corretamente carregadas\n",
        "for index in valid_indexes:\n",
        "  if (input_tensors[index] != BACKGROUND_VALUE).any() and (output_tensors[index] != BACKGROUND_VALUE).any():\n",
        "    remaining_indexes.append(index)\n",
        "\n",
        "#Salva numero de caracteres que não foram abertos corretamente\n",
        "saveText(\"Caracteres não lidos:\" + str(len(valid_indexes) - len(remaining_indexes)) + '/' + str(len(valid_indexes)))  \n",
        "\n",
        "#Se especificado, escolhe subconjunto dos indices pra usar no treinamento/validação\n",
        "if TRAIN_VALIDATE_SET_SIZE:\n",
        "   remaining_indexes = random.sample(remaining_indexes, TRAIN_VALIDATE_SET_SIZE)\n",
        "    \n",
        "#Gera conjunto de indices de teste\n",
        "test_indexes = [x for x in range(0, nonForeignLen)] #Adiciona caracteres romanos e numerais\n",
        "if NUM_FOREIGN_TEST == None:\n",
        "  NUM_FOREIGN_TEST = nonForeignLen\n",
        "foreign_test_indexes = random.sample(remaining_indexes, NUM_FOREIGN_TEST) #extraindo exemplos do caracteres extrangeiros\n",
        "for element in foreign_test_indexes: #Remove da lista de indices disponiveis\n",
        "  remaining_indexes.remove(element)\n",
        "test_indexes += foreign_test_indexes\n",
        "if len(remaining_indexes)%2 == 1: #garante que conjunto restante seja par\n",
        "  test_indexes.append(remaining_indexes[0])\n",
        "  remaining_indexes.remove(remaining_indexes[0])\n",
        "  \n",
        "#Gera conjunto de teste \n",
        "test_input = []\n",
        "test_output = []  \n",
        "for index in test_indexes:\n",
        "  test_input.append(input_tensors[index])\n",
        "  test_output.append(output_tensors[index])  \n",
        "test_input = np.array(test_input)\n",
        "test_output = np.array(test_output)  \n",
        "\n",
        "\n",
        "#Gera conjunto de indices de treinamento\n",
        "train_size = len(remaining_indexes)//2\n",
        "train_indexes = random.sample(remaining_indexes, train_size) #extraindo metade dos exemplos para treino\n",
        "for element in train_indexes: #Remove da lista de indices disponiveis\n",
        "  remaining_indexes.remove(element)\n",
        "\n",
        "#Gera conjunto de treinamento \n",
        "train_input = []\n",
        "train_output = []  \n",
        "for index in train_indexes:\n",
        "  train_input.append(input_tensors[index])\n",
        "  train_output.append(output_tensors[index])  \n",
        "train_input = np.array(train_input)\n",
        "train_output = np.array(train_output)  \n",
        "\n",
        "\n",
        "#Gera conjunto de validação \n",
        "validate_input = []\n",
        "validate_output = []  \n",
        "for index in remaining_indexes:\n",
        "  validate_input.append(input_tensors[index])\n",
        "  validate_output.append(output_tensors[index])  \n",
        "validate_input = np.array(validate_input)\n",
        "validate_output = np.array(validate_output)  \n"
      ],
      "execution_count": 0,
      "outputs": []
    },
    {
      "cell_type": "code",
      "metadata": {
        "id": "UGwmcKrNKsEV",
        "colab_type": "code",
        "colab": {}
      },
      "source": [
        "#Gera conjuntos de validação e treinamento (usar aqui para data augmentation)\n",
        "from keras.preprocessing.image import ImageDataGenerator\n",
        "\n",
        "datagen = ImageDataGenerator()\n",
        "\n",
        "datagen.fit(train_input)\n",
        "\n",
        "valgen = ImageDataGenerator()\n",
        "\n",
        "valgen.fit(validate_input)"
      ],
      "execution_count": 0,
      "outputs": []
    },
    {
      "cell_type": "markdown",
      "metadata": {
        "id": "wVqpgJpTnq88",
        "colab_type": "text"
      },
      "source": [
        "Arquitetura da rede"
      ]
    },
    {
      "cell_type": "code",
      "metadata": {
        "id": "ltciEyo1gBfA",
        "colab_type": "code",
        "outputId": "fd9f1e98-37d8-42f8-dc8f-c7a2e15f4d99",
        "colab": {
          "base_uri": "https://localhost:8080/",
          "height": 1653
        }
      },
      "source": [
        " from __future__ import print_function\n",
        "import keras\n",
        "from keras.datasets import cifar10\n",
        "from keras.preprocessing.image import ImageDataGenerator\n",
        "from keras.models import Sequential\n",
        "from keras.layers import Dense, Dropout, Activation, Flatten, LeakyReLU\n",
        "from keras.layers import Conv2D, MaxPooling2D, BatchNormalization, Conv1D\n",
        "import os\n",
        "\n",
        "model = Sequential()\n",
        "\n",
        "#Cadadas convolucionais de entrada\n",
        "model.add(Conv2D(8, (64, 64), input_shape=INPUT_SHAPE + (1,), padding='same'))\n",
        "model.add(LeakyReLU(alpha=0.2))\n",
        "model.add(BatchNormalization(axis=-1, momentum=0.9, epsilon=0.01))\n",
        "model.add(Conv2D(8, (64, 64), padding='same'))\n",
        "model.add(LeakyReLU(alpha=0.2))\n",
        "model.add(BatchNormalization(axis=-1, momentum=0.9, epsilon=0.01))\n",
        "          \n",
        "#Camadas convolucionais repetidas          \n",
        "for i in range (0, N_LAYERS):\n",
        "  model.add(Conv2D(32, (32, 32), padding='same'))\n",
        "  model.add(LeakyReLU(alpha=0.2))\n",
        "  model.add(BatchNormalization(axis=-1, momentum=0.9, epsilon=0.01))\n",
        "\n",
        "for i in range(0, N_LAYERS):\n",
        "  model.add(Conv2D(64, (16, 16), padding='same'))\n",
        "  model.add(LeakyReLU(alpha=0.2))\n",
        "  model.add(BatchNormalization(axis=-1, momentum=0.9, epsilon=0.01))\n",
        "\n",
        "for i in range(0, N_LAYERS):\n",
        "  model.add(Conv2D(128, (7, 7), padding='same'))\n",
        "  model.add(LeakyReLU(alpha=0.2))\n",
        "  model.add(BatchNormalization(axis=-1, momentum=0.9, epsilon=0.01))\n",
        "\n",
        "#Camadas convolucionais de saida\n",
        "model.add(Conv2D(128, (3, 3), padding='same'))\n",
        "model.add(LeakyReLU(alpha=0.2))\n",
        "model.add(BatchNormalization(axis=-1, momentum=0.9, epsilon=0.01))\n",
        "model.add(Conv2D(1, (3, 3), padding='same'))\n",
        "model.add(BatchNormalization(axis=-1, momentum=0.9, epsilon=0.01))\n",
        "\n",
        "#Reduz dimensões da saida\n",
        "model.add(MaxPooling2D(pool_size=POOLING_SHAPE))  \n",
        "\n",
        "#Define dropout e ativação\n",
        "model.add(Dropout(DROPOUT_RATE))\n",
        "model.add(Activation(ACTIVATION_FUNCTION))\n",
        "\n",
        "#Imprime dados do modelo           \n",
        "model.summary()\n"
      ],
      "execution_count": 22,
      "outputs": [
        {
          "output_type": "stream",
          "text": [
            "W0613 22:52:17.611340 140306674476928 deprecation_wrapper.py:119] From /usr/local/lib/python3.6/dist-packages/keras/backend/tensorflow_backend.py:517: The name tf.placeholder is deprecated. Please use tf.compat.v1.placeholder instead.\n",
            "\n",
            "W0613 22:52:17.616007 140306674476928 deprecation_wrapper.py:119] From /usr/local/lib/python3.6/dist-packages/keras/backend/tensorflow_backend.py:4138: The name tf.random_uniform is deprecated. Please use tf.random.uniform instead.\n",
            "\n",
            "W0613 22:52:17.659711 140306674476928 deprecation_wrapper.py:119] From /usr/local/lib/python3.6/dist-packages/keras/backend/tensorflow_backend.py:174: The name tf.get_default_session is deprecated. Please use tf.compat.v1.get_default_session instead.\n",
            "\n",
            "W0613 22:52:17.660670 140306674476928 deprecation_wrapper.py:119] From /usr/local/lib/python3.6/dist-packages/keras/backend/tensorflow_backend.py:181: The name tf.ConfigProto is deprecated. Please use tf.compat.v1.ConfigProto instead.\n",
            "\n",
            "W0613 22:52:20.349958 140306674476928 deprecation_wrapper.py:119] From /usr/local/lib/python3.6/dist-packages/keras/backend/tensorflow_backend.py:1834: The name tf.nn.fused_batch_norm is deprecated. Please use tf.compat.v1.nn.fused_batch_norm instead.\n",
            "\n",
            "W0613 22:52:21.183929 140306674476928 deprecation_wrapper.py:119] From /usr/local/lib/python3.6/dist-packages/keras/backend/tensorflow_backend.py:3976: The name tf.nn.max_pool is deprecated. Please use tf.nn.max_pool2d instead.\n",
            "\n",
            "W0613 22:52:21.196476 140306674476928 deprecation.py:506] From /usr/local/lib/python3.6/dist-packages/keras/backend/tensorflow_backend.py:3445: calling dropout (from tensorflow.python.ops.nn_ops) with keep_prob is deprecated and will be removed in a future version.\n",
            "Instructions for updating:\n",
            "Please use `rate` instead of `keep_prob`. Rate should be set to `rate = 1 - keep_prob`.\n"
          ],
          "name": "stderr"
        },
        {
          "output_type": "stream",
          "text": [
            "_________________________________________________________________\n",
            "Layer (type)                 Output Shape              Param #   \n",
            "=================================================================\n",
            "conv2d_1 (Conv2D)            (None, 160, 160, 8)       32776     \n",
            "_________________________________________________________________\n",
            "leaky_re_lu_2 (LeakyReLU)    (None, 160, 160, 8)       0         \n",
            "_________________________________________________________________\n",
            "batch_normalization_1 (Batch (None, 160, 160, 8)       32        \n",
            "_________________________________________________________________\n",
            "conv2d_2 (Conv2D)            (None, 160, 160, 8)       262152    \n",
            "_________________________________________________________________\n",
            "leaky_re_lu_3 (LeakyReLU)    (None, 160, 160, 8)       0         \n",
            "_________________________________________________________________\n",
            "batch_normalization_2 (Batch (None, 160, 160, 8)       32        \n",
            "_________________________________________________________________\n",
            "conv2d_3 (Conv2D)            (None, 160, 160, 32)      262176    \n",
            "_________________________________________________________________\n",
            "leaky_re_lu_4 (LeakyReLU)    (None, 160, 160, 32)      0         \n",
            "_________________________________________________________________\n",
            "batch_normalization_3 (Batch (None, 160, 160, 32)      128       \n",
            "_________________________________________________________________\n",
            "conv2d_4 (Conv2D)            (None, 160, 160, 32)      1048608   \n",
            "_________________________________________________________________\n",
            "leaky_re_lu_5 (LeakyReLU)    (None, 160, 160, 32)      0         \n",
            "_________________________________________________________________\n",
            "batch_normalization_4 (Batch (None, 160, 160, 32)      128       \n",
            "_________________________________________________________________\n",
            "conv2d_5 (Conv2D)            (None, 160, 160, 64)      524352    \n",
            "_________________________________________________________________\n",
            "leaky_re_lu_6 (LeakyReLU)    (None, 160, 160, 64)      0         \n",
            "_________________________________________________________________\n",
            "batch_normalization_5 (Batch (None, 160, 160, 64)      256       \n",
            "_________________________________________________________________\n",
            "conv2d_6 (Conv2D)            (None, 160, 160, 64)      1048640   \n",
            "_________________________________________________________________\n",
            "leaky_re_lu_7 (LeakyReLU)    (None, 160, 160, 64)      0         \n",
            "_________________________________________________________________\n",
            "batch_normalization_6 (Batch (None, 160, 160, 64)      256       \n",
            "_________________________________________________________________\n",
            "conv2d_7 (Conv2D)            (None, 160, 160, 128)     401536    \n",
            "_________________________________________________________________\n",
            "leaky_re_lu_8 (LeakyReLU)    (None, 160, 160, 128)     0         \n",
            "_________________________________________________________________\n",
            "batch_normalization_7 (Batch (None, 160, 160, 128)     512       \n",
            "_________________________________________________________________\n",
            "conv2d_8 (Conv2D)            (None, 160, 160, 128)     802944    \n",
            "_________________________________________________________________\n",
            "leaky_re_lu_9 (LeakyReLU)    (None, 160, 160, 128)     0         \n",
            "_________________________________________________________________\n",
            "batch_normalization_8 (Batch (None, 160, 160, 128)     512       \n",
            "_________________________________________________________________\n",
            "conv2d_9 (Conv2D)            (None, 160, 160, 128)     147584    \n",
            "_________________________________________________________________\n",
            "leaky_re_lu_10 (LeakyReLU)   (None, 160, 160, 128)     0         \n",
            "_________________________________________________________________\n",
            "batch_normalization_9 (Batch (None, 160, 160, 128)     512       \n",
            "_________________________________________________________________\n",
            "conv2d_10 (Conv2D)           (None, 160, 160, 1)       1153      \n",
            "_________________________________________________________________\n",
            "batch_normalization_10 (Batc (None, 160, 160, 1)       4         \n",
            "_________________________________________________________________\n",
            "max_pooling2d_1 (MaxPooling2 (None, 80, 80, 1)         0         \n",
            "_________________________________________________________________\n",
            "dropout_1 (Dropout)          (None, 80, 80, 1)         0         \n",
            "_________________________________________________________________\n",
            "activation_1 (Activation)    (None, 80, 80, 1)         0         \n",
            "=================================================================\n",
            "Total params: 4,534,293\n",
            "Trainable params: 4,533,107\n",
            "Non-trainable params: 1,186\n",
            "_________________________________________________________________\n"
          ],
          "name": "stdout"
        },
        {
          "output_type": "stream",
          "text": [
            "/usr/local/lib/python3.6/dist-packages/keras/activations.py:211: UserWarning: Do not pass a layer instance (such as LeakyReLU) as the activation argument of another layer. Instead, advanced activation layers should be used just like any other layer in a model.\n",
            "  identifier=identifier.__class__.__name__))\n"
          ],
          "name": "stderr"
        }
      ]
    },
    {
      "cell_type": "markdown",
      "metadata": {
        "id": "W8uf1peSoIvl",
        "colab_type": "text"
      },
      "source": [
        "Compila modelo"
      ]
    },
    {
      "cell_type": "code",
      "metadata": {
        "id": "QepL_8VjmZiY",
        "colab_type": "code",
        "colab": {
          "base_uri": "https://localhost:8080/",
          "height": 74
        },
        "outputId": "65f0e257-1605-4fb0-b805-2298956a1f29"
      },
      "source": [
        "# Let's train the model using RMSprop\n",
        "model.compile(loss=LOSS_FUNCTION,\n",
        "              optimizer=OPTMIZER,\n",
        "              metrics=METRICS_LIST)"
      ],
      "execution_count": 23,
      "outputs": [
        {
          "output_type": "stream",
          "text": [
            "W0613 22:52:21.239234 140306674476928 deprecation_wrapper.py:119] From /usr/local/lib/python3.6/dist-packages/keras/optimizers.py:790: The name tf.train.Optimizer is deprecated. Please use tf.compat.v1.train.Optimizer instead.\n",
            "\n"
          ],
          "name": "stderr"
        }
      ]
    },
    {
      "cell_type": "markdown",
      "metadata": {
        "id": "VDLgnLQsoLMN",
        "colab_type": "text"
      },
      "source": [
        "Treina modelo"
      ]
    },
    {
      "cell_type": "code",
      "metadata": {
        "id": "InDly4TXKXak",
        "colab_type": "code",
        "outputId": "ad41c55e-e8cb-433e-f78a-a5802a0b16c7",
        "colab": {
          "base_uri": "https://localhost:8080/",
          "height": 643
        }
      },
      "source": [
        "history = model.fit_generator(datagen.flow(train_input, train_output, batch_size=BATCH_SIZE),\n",
        "                    validation_data=valgen.flow(validate_input, validate_output, batch_size=BATCH_SIZE), \n",
        "                    steps_per_epoch=len(train_input)/BATCH_SIZE, \n",
        "                    validation_steps = len(validate_input)/BATCH_SIZE,\n",
        "                    epochs=EPOCHS_NUM,\n",
        "                    verbose=1)"
      ],
      "execution_count": 24,
      "outputs": [
        {
          "output_type": "stream",
          "text": [
            "W0613 22:52:21.545824 140306674476928 deprecation.py:323] From /usr/local/lib/python3.6/dist-packages/tensorflow/python/ops/math_grad.py:1250: add_dispatch_support.<locals>.wrapper (from tensorflow.python.ops.array_ops) is deprecated and will be removed in a future version.\n",
            "Instructions for updating:\n",
            "Use tf.where in 2.0, which has the same broadcast rule as np.where\n"
          ],
          "name": "stderr"
        },
        {
          "output_type": "stream",
          "text": [
            "Epoch 1/15\n",
            "361/360 [==============================] - 251s 696ms/step - loss: 0.1196 - mean_absolute_error: 0.4204 - val_loss: 0.0713 - val_mean_absolute_error: 0.4081\n",
            "Epoch 2/15\n",
            "361/360 [==============================] - 194s 539ms/step - loss: 0.1131 - mean_absolute_error: 0.3861 - val_loss: 0.0749 - val_mean_absolute_error: 0.3896\n",
            "Epoch 3/15\n",
            "361/360 [==============================] - 194s 539ms/step - loss: 0.1120 - mean_absolute_error: 0.3723 - val_loss: 0.0682 - val_mean_absolute_error: 0.3922\n",
            "Epoch 4/15\n",
            "361/360 [==============================] - 194s 539ms/step - loss: 0.1114 - mean_absolute_error: 0.3640 - val_loss: 0.0698 - val_mean_absolute_error: 0.3724\n",
            "Epoch 5/15\n",
            "361/360 [==============================] - 195s 539ms/step - loss: 0.1109 - mean_absolute_error: 0.3592 - val_loss: 0.0686 - val_mean_absolute_error: 0.3740\n",
            "Epoch 6/15\n",
            "361/360 [==============================] - 194s 538ms/step - loss: 0.1107 - mean_absolute_error: 0.3552 - val_loss: 0.0671 - val_mean_absolute_error: 0.3600\n",
            "Epoch 7/15\n",
            "361/360 [==============================] - 195s 539ms/step - loss: 0.1104 - mean_absolute_error: 0.3513 - val_loss: 0.0659 - val_mean_absolute_error: 0.3251\n",
            "Epoch 8/15\n",
            "361/360 [==============================] - 194s 538ms/step - loss: 0.1102 - mean_absolute_error: 0.3465 - val_loss: 0.0681 - val_mean_absolute_error: 0.3546\n",
            "Epoch 9/15\n",
            "361/360 [==============================] - 194s 539ms/step - loss: 0.1099 - mean_absolute_error: 0.3430 - val_loss: 0.0634 - val_mean_absolute_error: 0.3245\n",
            "Epoch 10/15\n",
            "361/360 [==============================] - 194s 539ms/step - loss: 0.1097 - mean_absolute_error: 0.3396 - val_loss: 0.0685 - val_mean_absolute_error: 0.3215\n",
            "Epoch 11/15\n",
            "361/360 [==============================] - 194s 538ms/step - loss: 0.1095 - mean_absolute_error: 0.3374 - val_loss: 0.0633 - val_mean_absolute_error: 0.3038\n",
            "Epoch 12/15\n",
            "361/360 [==============================] - 194s 538ms/step - loss: 0.1095 - mean_absolute_error: 0.3360 - val_loss: 0.0653 - val_mean_absolute_error: 0.3274\n",
            "Epoch 13/15\n",
            "361/360 [==============================] - 194s 538ms/step - loss: 0.1093 - mean_absolute_error: 0.3360 - val_loss: 0.0644 - val_mean_absolute_error: 0.3111\n",
            "Epoch 14/15\n",
            "361/360 [==============================] - 194s 538ms/step - loss: 0.1092 - mean_absolute_error: 0.3330 - val_loss: 0.0635 - val_mean_absolute_error: 0.3399\n",
            "Epoch 15/15\n",
            "361/360 [==============================] - 194s 538ms/step - loss: 0.1089 - mean_absolute_error: 0.3309 - val_loss: 0.0633 - val_mean_absolute_error: 0.3270\n"
          ],
          "name": "stdout"
        }
      ]
    },
    {
      "cell_type": "code",
      "metadata": {
        "id": "KXNIL0JTKcUJ",
        "colab_type": "code",
        "outputId": "4f09e1ed-a10b-4038-835d-81df4f86bae8",
        "colab": {
          "base_uri": "https://localhost:8080/",
          "height": 295
        }
      },
      "source": [
        "# Gera gráfico para funções de perda \n",
        "plt.plot(history.history['loss'])\n",
        "plt.plot(history.history['val_loss'])\n",
        "plt.title('model loss')\n",
        "plt.ylabel('loss')\n",
        "plt.xlabel('epoch')\n",
        "plt.legend(['train', 'validation'], loc='upper left')\n",
        "\n",
        "saveGraph('loss_graph', 'Train/Validation loss over epochs')"
      ],
      "execution_count": 25,
      "outputs": [
        {
          "output_type": "display_data",
          "data": {
            "image/png": "[encoded data removed]",
            "text/plain": [
              "<Figure size 432x288 with 1 Axes>"
            ]
          },
          "metadata": {
            "tags": []
          }
        }
      ]
    },
    {
      "cell_type": "code",
      "metadata": {
        "id": "uygi9trFg6WU",
        "colab_type": "code",
        "outputId": "557b527e-4e61-4a2a-a582-80ca79b69e9e",
        "colab": {
          "base_uri": "https://localhost:8080/",
          "height": 295
        }
      },
      "source": [
        "# Cria gráficos para as outras métricas criadas\n",
        "for metric in history.history.keys():\n",
        "  if metric != 'loss' and metric.split('_')[0] != 'val':\n",
        "    plt.plot(history.history[metric])\n",
        "    plt.plot(history.history['val_' + metric])\n",
        "    plt.title('model ' + metric)\n",
        "    plt.ylabel(metric)\n",
        "    plt.xlabel('epoch')\n",
        "    plt.legend(['train', 'validation'], loc='upper left')\n",
        "\n",
        "    saveGraph(metric + '_graph', 'Train/Validation' + metric + ' over epochs')"
      ],
      "execution_count": 26,
      "outputs": [
        {
          "output_type": "display_data",
          "data": {
            "image/png": "[encoded data removed]",
            "text/plain": [
              "<Figure size 432x288 with 1 Axes>"
            ]
          },
          "metadata": {
            "tags": []
          }
        }
      ]
    },
    {
      "cell_type": "code",
      "metadata": {
        "id": "OX9W5H_5ki2l",
        "colab_type": "code",
        "outputId": "a32e0129-25e4-4726-b111-315c3776cadd",
        "colab": {
          "base_uri": "https://localhost:8080/",
          "height": 35
        }
      },
      "source": [
        "#Verifica loss e outras metricas no conjunto de teste\n",
        "test_results = model.evaluate(test_input, test_output)\n",
        "\n",
        "saveText(\"Complete evaluate: \" + str(test_results))"
      ],
      "execution_count": 27,
      "outputs": [
        {
          "output_type": "stream",
          "text": [
            "124/124 [==============================] - 61s 496ms/step\n"
          ],
          "name": "stdout"
        }
      ]
    },
    {
      "cell_type": "code",
      "metadata": {
        "id": "Ury-rRaXdW39",
        "colab_type": "code",
        "outputId": "0ab42a56-d403-4558-f6d5-e6fdd6d3f3ca",
        "colab": {
          "base_uri": "https://localhost:8080/",
          "height": 35
        }
      },
      "source": [
        "#Verifica loss e outras metricas dos caracteres romanos e numerais no conjunto de teste\n",
        "test_results = model.evaluate(test_input[:nonForeignLen], test_output[:nonForeignLen])\n",
        "\n",
        "saveText(\"Non Foreign Characters Evaluate: \" + str(test_results))"
      ],
      "execution_count": 28,
      "outputs": [
        {
          "output_type": "stream",
          "text": [
            "62/62 [==============================] - 31s 494ms/step\n"
          ],
          "name": "stdout"
        }
      ]
    },
    {
      "cell_type": "code",
      "metadata": {
        "id": "bvfAy74OdpNh",
        "colab_type": "code",
        "outputId": "17a1336c-348c-421d-a91d-33d6e0761421",
        "colab": {
          "base_uri": "https://localhost:8080/",
          "height": 35
        }
      },
      "source": [
        "#Verifica loss e outras metricas dos caracteres romanos e numerais no conjunto de teste\n",
        "test_results = model.evaluate(test_input[nonForeignLen:], test_output[nonForeignLen:])\n",
        "\n",
        "saveText(\"Foreign Characters Evaluate: \" + str(test_results))"
      ],
      "execution_count": 29,
      "outputs": [
        {
          "output_type": "stream",
          "text": [
            "62/62 [==============================] - 1s 12ms/step\n"
          ],
          "name": "stdout"
        }
      ]
    },
    {
      "cell_type": "code",
      "metadata": {
        "id": "zc2fkpU-JpX3",
        "colab_type": "code",
        "colab": {
          "base_uri": "https://localhost:8080/",
          "height": 5656
        },
        "outputId": "f0fe9350-3adc-4db0-fafc-15c7e5f21c0e"
      },
      "source": [
        "#Gera resultados para o conjunto de teste\n",
        "results = model.predict(test_input)\n",
        "print(results)"
      ],
      "execution_count": 30,
      "outputs": [
        {
          "output_type": "stream",
          "text": [
            "[[[[0.7461441 ]\n",
            "   [0.74692035]\n",
            "   [0.75498337]\n",
            "   ...\n",
            "   [0.73879135]\n",
            "   [0.7199698 ]\n",
            "   [0.71879613]]\n",
            "\n",
            "  [[0.7479216 ]\n",
            "   [0.7484587 ]\n",
            "   [0.7583503 ]\n",
            "   ...\n",
            "   [0.7388034 ]\n",
            "   [0.71977645]\n",
            "   [0.71326643]]\n",
            "\n",
            "  [[0.7585431 ]\n",
            "   [0.75979227]\n",
            "   [0.76412475]\n",
            "   ...\n",
            "   [0.75158983]\n",
            "   [0.7341927 ]\n",
            "   [0.73034406]]\n",
            "\n",
            "  ...\n",
            "\n",
            "  [[0.7477194 ]\n",
            "   [0.74319863]\n",
            "   [0.754099  ]\n",
            "   ...\n",
            "   [0.75261253]\n",
            "   [0.73356164]\n",
            "   [0.73053294]]\n",
            "\n",
            "  [[0.7265435 ]\n",
            "   [0.7257601 ]\n",
            "   [0.73894507]\n",
            "   ...\n",
            "   [0.73823833]\n",
            "   [0.7180197 ]\n",
            "   [0.714269  ]]\n",
            "\n",
            "  [[0.729358  ]\n",
            "   [0.7217926 ]\n",
            "   [0.74152356]\n",
            "   ...\n",
            "   [0.74315935]\n",
            "   [0.72297204]\n",
            "   [0.71137184]]]\n",
            "\n",
            "\n",
            " [[[0.74359226]\n",
            "   [0.74331707]\n",
            "   [0.7519669 ]\n",
            "   ...\n",
            "   [0.73803747]\n",
            "   [0.71896553]\n",
            "   [0.71803784]]\n",
            "\n",
            "  [[0.7450274 ]\n",
            "   [0.7435696 ]\n",
            "   [0.75552374]\n",
            "   ...\n",
            "   [0.7378514 ]\n",
            "   [0.71884716]\n",
            "   [0.7126611 ]]\n",
            "\n",
            "  [[0.75598437]\n",
            "   [0.756822  ]\n",
            "   [0.762997  ]\n",
            "   ...\n",
            "   [0.75102717]\n",
            "   [0.7337875 ]\n",
            "   [0.7302662 ]]\n",
            "\n",
            "  ...\n",
            "\n",
            "  [[0.74571157]\n",
            "   [0.74114084]\n",
            "   [0.7524571 ]\n",
            "   ...\n",
            "   [0.75630915]\n",
            "   [0.7375458 ]\n",
            "   [0.7336519 ]]\n",
            "\n",
            "  [[0.7222119 ]\n",
            "   [0.7219579 ]\n",
            "   [0.737445  ]\n",
            "   ...\n",
            "   [0.7424111 ]\n",
            "   [0.7223621 ]\n",
            "   [0.7183535 ]]\n",
            "\n",
            "  [[0.72511536]\n",
            "   [0.71667576]\n",
            "   [0.7382724 ]\n",
            "   ...\n",
            "   [0.74719423]\n",
            "   [0.7279719 ]\n",
            "   [0.7151108 ]]]\n",
            "\n",
            "\n",
            " [[[0.7463701 ]\n",
            "   [0.74680966]\n",
            "   [0.75460273]\n",
            "   ...\n",
            "   [0.73379815]\n",
            "   [0.7146939 ]\n",
            "   [0.7154037 ]]\n",
            "\n",
            "  [[0.7478206 ]\n",
            "   [0.7476889 ]\n",
            "   [0.7582371 ]\n",
            "   ...\n",
            "   [0.73591316]\n",
            "   [0.71714586]\n",
            "   [0.7112158 ]]\n",
            "\n",
            "  [[0.75781035]\n",
            "   [0.759267  ]\n",
            "   [0.76414055]\n",
            "   ...\n",
            "   [0.7512744 ]\n",
            "   [0.73497576]\n",
            "   [0.73161197]]\n",
            "\n",
            "  ...\n",
            "\n",
            "  [[0.74813837]\n",
            "   [0.74354583]\n",
            "   [0.75291187]\n",
            "   ...\n",
            "   [0.754631  ]\n",
            "   [0.7353208 ]\n",
            "   [0.7318006 ]]\n",
            "\n",
            "  [[0.72608835]\n",
            "   [0.7255915 ]\n",
            "   [0.7390132 ]\n",
            "   ...\n",
            "   [0.7402683 ]\n",
            "   [0.7195742 ]\n",
            "   [0.71519387]]\n",
            "\n",
            "  [[0.7287393 ]\n",
            "   [0.72003675]\n",
            "   [0.739744  ]\n",
            "   ...\n",
            "   [0.7447119 ]\n",
            "   [0.72408754]\n",
            "   [0.71152   ]]]\n",
            "\n",
            "\n",
            " ...\n",
            "\n",
            "\n",
            " [[[0.7367911 ]\n",
            "   [0.73567414]\n",
            "   [0.7461761 ]\n",
            "   ...\n",
            "   [0.7450616 ]\n",
            "   [0.72797513]\n",
            "   [0.7256544 ]]\n",
            "\n",
            "  [[0.73832804]\n",
            "   [0.73480314]\n",
            "   [0.74867296]\n",
            "   ...\n",
            "   [0.74479145]\n",
            "   [0.7265023 ]\n",
            "   [0.7236237 ]]\n",
            "\n",
            "  [[0.75123715]\n",
            "   [0.75013506]\n",
            "   [0.75923365]\n",
            "   ...\n",
            "   [0.7571115 ]\n",
            "   [0.740098  ]\n",
            "   [0.73872596]]\n",
            "\n",
            "  ...\n",
            "\n",
            "  [[0.7575423 ]\n",
            "   [0.755835  ]\n",
            "   [0.7600172 ]\n",
            "   ...\n",
            "   [0.763195  ]\n",
            "   [0.7497942 ]\n",
            "   [0.7461176 ]]\n",
            "\n",
            "  [[0.7407694 ]\n",
            "   [0.7381782 ]\n",
            "   [0.7486325 ]\n",
            "   ...\n",
            "   [0.75460076]\n",
            "   [0.73578054]\n",
            "   [0.73160887]]\n",
            "\n",
            "  [[0.744279  ]\n",
            "   [0.73695284]\n",
            "   [0.7500332 ]\n",
            "   ...\n",
            "   [0.7577353 ]\n",
            "   [0.7430553 ]\n",
            "   [0.7308069 ]]]\n",
            "\n",
            "\n",
            " [[[0.7445919 ]\n",
            "   [0.7444299 ]\n",
            "   [0.7529596 ]\n",
            "   ...\n",
            "   [0.72416306]\n",
            "   [0.6963833 ]\n",
            "   [0.69855666]]\n",
            "\n",
            "  [[0.74592507]\n",
            "   [0.74479544]\n",
            "   [0.7566128 ]\n",
            "   ...\n",
            "   [0.7214107 ]\n",
            "   [0.6936579 ]\n",
            "   [0.69001234]]\n",
            "\n",
            "  [[0.7565406 ]\n",
            "   [0.75772035]\n",
            "   [0.7637571 ]\n",
            "   ...\n",
            "   [0.74134713]\n",
            "   [0.7177174 ]\n",
            "   [0.7155823 ]]\n",
            "\n",
            "  ...\n",
            "\n",
            "  [[0.74208426]\n",
            "   [0.7364102 ]\n",
            "   [0.7457268 ]\n",
            "   ...\n",
            "   [0.75428885]\n",
            "   [0.7337307 ]\n",
            "   [0.72968465]]\n",
            "\n",
            "  [[0.7145885 ]\n",
            "   [0.7124542 ]\n",
            "   [0.7300517 ]\n",
            "   ...\n",
            "   [0.7382744 ]\n",
            "   [0.7156844 ]\n",
            "   [0.71193117]]\n",
            "\n",
            "  [[0.7181332 ]\n",
            "   [0.70539516]\n",
            "   [0.72673714]\n",
            "   ...\n",
            "   [0.7422724 ]\n",
            "   [0.72086287]\n",
            "   [0.7087219 ]]]\n",
            "\n",
            "\n",
            " [[[0.74202746]\n",
            "   [0.7407228 ]\n",
            "   [0.74910045]\n",
            "   ...\n",
            "   [0.74267143]\n",
            "   [0.7242799 ]\n",
            "   [0.7218327 ]]\n",
            "\n",
            "  [[0.7426838 ]\n",
            "   [0.73921055]\n",
            "   [0.7520254 ]\n",
            "   ...\n",
            "   [0.7417922 ]\n",
            "   [0.7227403 ]\n",
            "   [0.71718657]]\n",
            "\n",
            "  [[0.753889  ]\n",
            "   [0.753486  ]\n",
            "   [0.761187  ]\n",
            "   ...\n",
            "   [0.7532898 ]\n",
            "   [0.7354332 ]\n",
            "   [0.7325036 ]]\n",
            "\n",
            "  ...\n",
            "\n",
            "  [[0.75420004]\n",
            "   [0.7511552 ]\n",
            "   [0.7579534 ]\n",
            "   ...\n",
            "   [0.76043296]\n",
            "   [0.7462745 ]\n",
            "   [0.742622  ]]\n",
            "\n",
            "  [[0.73604685]\n",
            "   [0.733823  ]\n",
            "   [0.743893  ]\n",
            "   ...\n",
            "   [0.75125396]\n",
            "   [0.7325537 ]\n",
            "   [0.72997737]]\n",
            "\n",
            "  [[0.7383603 ]\n",
            "   [0.73074305]\n",
            "   [0.74588674]\n",
            "   ...\n",
            "   [0.75501925]\n",
            "   [0.7408993 ]\n",
            "   [0.7295043 ]]]]\n"
          ],
          "name": "stdout"
        }
      ]
    },
    {
      "cell_type": "code",
      "metadata": {
        "id": "j2S12f80cQ6f",
        "colab_type": "code",
        "outputId": "4186baa6-2c2d-43b6-f763-d3cfb68eb51a",
        "colab": {
          "base_uri": "https://localhost:8080/",
          "height": 74
        }
      },
      "source": [
        "#Gera imagem com entrada, e outra com resultado esperado e resultado para conjunto de teste\n",
        "result_img = results[0].reshape(OUTPUT_SHAPE)\n",
        "\n",
        "for index in range(1, len(results)):\n",
        "  result_img = np.hstack((result_img, results[index].reshape(OUTPUT_SHAPE))) \n",
        "  \n",
        "expected_img = test_output[0].reshape(OUTPUT_SHAPE)\n",
        "\n",
        "for index in range(1, len(test_output)):\n",
        "  expected_img = np.hstack((expected_img, test_output[index].reshape(OUTPUT_SHAPE)))\n",
        "  \n",
        "comparation_img = np.vstack((expected_img, result_img))\n",
        "\n",
        "saveImage(comparation_img, \"test_results_complete\", \"Test results complete(expected/output)\")  \n",
        "  \n",
        "tested_img = test_input[0].reshape(INPUT_SHAPE)\n",
        "\n",
        "for index in range(1, len(test_output)):\n",
        "  tested_img = np.hstack((tested_img, test_input[index].reshape(INPUT_SHAPE)))\n",
        "  \n",
        "saveImage(np.array(tested_img, np.float64), \"test_inputs_complete\", \"Test inputs complete\")"
      ],
      "execution_count": 31,
      "outputs": [
        {
          "output_type": "stream",
          "text": [
            "W0613 23:43:33.283709 140306674476928 util.py:61] Lossy conversion from float32 to uint8. Range [-6.513678073883057, 1.0]. Convert image to uint8 prior to saving to suppress this warning.\n",
            "W0613 23:43:34.703955 140306674476928 util.py:61] Lossy conversion from float64 to uint8. Range [0, 1]. Convert image to uint8 prior to saving to suppress this warning.\n"
          ],
          "name": "stderr"
        }
      ]
    },
    {
      "cell_type": "code",
      "metadata": {
        "id": "N83SqLMvnnpl",
        "colab_type": "code",
        "colab": {}
      },
      "source": [
        "#Gera o mesmo que a função anterior, mas com menos exemplos para facilitar a visualização\n",
        "result_img = results[0].reshape(OUTPUT_SHAPE)\n",
        "\n",
        "for index in range(1, len(results), NUM_FOREIGN_TEST//14):\n",
        "  result_img = np.hstack((result_img, results[index].reshape(OUTPUT_SHAPE))) \n",
        "  \n",
        "expected_img = test_output[0].reshape(OUTPUT_SHAPE)\n",
        "\n",
        "for index in range(1, len(test_output), NUM_FOREIGN_TEST//14):\n",
        "  expected_img = np.hstack((expected_img, test_output[index].reshape(OUTPUT_SHAPE)))\n",
        "  \n",
        "comparation_img = np.vstack((expected_img, result_img))\n",
        "\n",
        "saveImage(comparation_img, \"test_results\", \"Test results (expected/output)\")  \n",
        "  \n",
        "tested_img = test_input[0].reshape(INPUT_SHAPE)\n",
        "\n",
        "for index in range(1, len(test_output), NUM_FOREIGN_TEST//14):\n",
        "  tested_img = np.hstack((tested_img, test_input[index].reshape(INPUT_SHAPE)))\n",
        "  \n",
        "saveImage(np.array(tested_img, np.float64), \"test_inputs\", \"Test inputs\")"
      ],
      "execution_count": 0,
      "outputs": []
    },
    {
      "cell_type": "code",
      "metadata": {
        "id": "vcQU7XM-wGN1",
        "colab_type": "code",
        "outputId": "aaff9706-f83a-4311-f06b-9f14f84f3e1a",
        "colab": {
          "base_uri": "https://localhost:8080/",
          "height": 156
        }
      },
      "source": [
        "#mostra entrada\n",
        "ski.io.imshow(tested_img)"
      ],
      "execution_count": 44,
      "outputs": [
        {
          "output_type": "stream",
          "text": [
            "/usr/local/lib/python3.6/dist-packages/skimage/io/_plugins/matplotlib_plugin.py:75: UserWarning: Low image data range; displaying image with stretched contrast.\n",
            "  warn(\"Low image data range; displaying image with \"\n"
          ],
          "name": "stderr"
        },
        {
          "output_type": "execute_result",
          "data": {
            "text/plain": [
              "<matplotlib.image.AxesImage at 0x7f9afc356978>"
            ]
          },
          "metadata": {
            "tags": []
          },
          "execution_count": 44
        },
        {
          "output_type": "display_data",
          "data": {
            "image/png": "[encoded data removed]",
            "text/plain": [
              "<Figure size 432x288 with 2 Axes>"
            ]
          },
          "metadata": {
            "tags": []
          }
        }
      ]
    },
    {
      "cell_type": "code",
      "metadata": {
        "id": "uS07qyfjo2Mm",
        "colab_type": "code",
        "outputId": "bc7fea0e-b1dc-4c11-97df-4fd2306dbed1",
        "colab": {
          "base_uri": "https://localhost:8080/",
          "height": 149
        }
      },
      "source": [
        "#mostra resultado\n",
        "comparation_img_bin = np.where(comparation_img > 0.20, 1, 0)"
      ],
      "execution_count": 61,
      "outputs": [
        {
          "output_type": "stream",
          "text": [
            "/usr/local/lib/python3.6/dist-packages/skimage/io/_plugins/matplotlib_plugin.py:75: UserWarning: Low image data range; displaying image with stretched contrast.\n",
            "  warn(\"Low image data range; displaying image with \"\n",
            "W0613 23:52:30.860806 140306674476928 util.py:61] Lossy conversion from float64 to uint8. Range [0, 1]. Convert image to uint8 prior to saving to suppress this warning.\n"
          ],
          "name": "stderr"
        },
        {
          "output_type": "display_data",
          "data": {
            "image/png": "[encoded data removed]",
            "text/plain": [
              "<Figure size 432x288 with 2 Axes>"
            ]
          },
          "metadata": {
            "tags": []
          }
        }
      ]
    },
    {
      "cell_type": "markdown",
      "metadata": {
        "id": "1-OG_ajk7h8l",
        "colab_type": "text"
      },
      "source": [
        "Usar para visualizar caractere especifico"
      ]
    },
    {
      "cell_type": "markdown",
      "metadata": {
        "id": "jNcz6vfT7hxx",
        "colab_type": "text"
      },
      "source": [
        ""
      ]
    },
    {
      "cell_type": "code",
      "metadata": {
        "id": "GIUMH5v2NDqj",
        "colab_type": "code",
        "colab": {}
      },
      "source": [
        "def show_results(input_test, output_test, actual_output):\n",
        "  input_test = input_test.reshape(INPUT_SHAPE)\n",
        "  output_test = output_test.reshape(OUTPUT_SHAPE)\n",
        "  actual_output = actual_output.reshape(OUTPUT_SHAPE)\n",
        "  return ski.io.imshow_collection([input_test, output_test, actual_output])"
      ],
      "execution_count": 0,
      "outputs": []
    },
    {
      "cell_type": "code",
      "metadata": {
        "id": "kHgrdXy3QMCJ",
        "colab_type": "code",
        "outputId": "6dce9226-5b0e-462e-d3ae-5024e85379bf",
        "colab": {
          "base_uri": "https://localhost:8080/",
          "height": 521
        }
      },
      "source": [
        "example_index = 10\n",
        "show_results(test_input[example_index], test_output[example_index], results[example_index])"
      ],
      "execution_count": 36,
      "outputs": [
        {
          "output_type": "execute_result",
          "data": {
            "image/png": "[encoded data removed]",
            "text/plain": [
              "<Figure size 432x288 with 4 Axes>"
            ]
          },
          "metadata": {
            "tags": []
          },
          "execution_count": 36
        },
        {
          "output_type": "display_data",
          "data": {
            "image/png": "[encoded data removed]",
            "text/plain": [
              "<Figure size 432x288 with 4 Axes>"
            ]
          },
          "metadata": {
            "tags": []
          }
        }
      ]
    },
    {
      "cell_type": "code",
      "metadata": {
        "id": "ner6R1i5wbic",
        "colab_type": "code",
        "colab": {}
      },
      "source": [
        ""
      ],
      "execution_count": 0,
      "outputs": []
    },
    {
      "cell_type": "markdown",
      "metadata": {
        "id": "uCe8sWQXr1lz",
        "colab_type": "text"
      },
      "source": [
        ""
      ]
    }
  ]
}