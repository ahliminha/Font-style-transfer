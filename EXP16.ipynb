{
  "nbformat": 4,
  "nbformat_minor": 0,
  "metadata": {
    "colab": {
      "name": "EXP16.ipynb",
      "version": "0.3.2",
      "provenance": [],
      "collapsed_sections": []
    },
    "kernelspec": {
      "name": "python3",
      "display_name": "Python 3"
    },
    "accelerator": "GPU"
  },
  "cells": [
    {
      "cell_type": "code",
      "metadata": {
        "id": "TLgjs2CRf33o",
        "colab_type": "code",
        "colab": {}
      },
      "source": [
        "import keras\n",
        "import sklearn as sk\n",
        "import skimage as ski\n",
        "import pandas as pd\n",
        "import numpy as np\n",
        "import matplotlib.pyplot as plt \n",
        "import scipy.io as spio\n",
        "import PIL\n",
        "from PIL import ImageFont\n",
        "from PIL import Image\n",
        "from PIL import ImageDraw\n",
        "import random\n",
        "from google.colab import drive\n",
        "np.random.seed(816)\n",
        "random.seed(979)"
      ],
      "execution_count": 0,
      "outputs": []
    },
    {
      "cell_type": "code",
      "metadata": {
        "id": "l5IbDewgz1WU",
        "colab_type": "code",
        "colab": {}
      },
      "source": [
        "#Parametros do experimento (mexer nesta parte)\n",
        "\n",
        "#Nome do experimento (sera usado para salvar relatorio e como prefixo para imagens na pasta Results do drive)\n",
        "EXPERIMENT_NAME = \"EXP_16\"\n",
        "\n",
        "#Parametros da arquitetura\n",
        "N_LAYERS = 3 #Numero de repetições das camadas convolucionais intermediarias (recomendado de 2 a 4)\n",
        "POOLING_PROPORTION = 2 #Deve dividir o lado da imagem de entrada (parametro abaixo)\n",
        "POOLING_SHAPE = (POOLING_PROPORTION, POOLING_PROPORTION) #Proporção de pooling usado\n",
        "ACTIVATION_FUNCTION = keras.layers.LeakyReLU(alpha=0.2) #Função de ativação\n",
        "OPTMIZER = opt = keras.optimizers.rmsprop(lr=0.01, decay=1e-4) #Otimizador usado\n",
        "DROPOUT_RATE = 0.25\n",
        "LOSS_FUNCTION = keras.losses.mean_squared_logarithmic_error #Função de perda\n",
        "\n",
        "#Parametros do treinamento\n",
        "METRICS_LIST = ['MSE'] #Metricas exibidas (não interferem no treinamento)\n",
        "BATCH_SIZE = 4 #Tamanho de batch (16 recomendado pelo autor original, mas reduzir acelera o treino. Excesso pode estourar a ram)\n",
        "EPOCHS_NUM = 30 #numero de epocas usada (influencia proporcionalmente o tempo de treino)\n",
        "\n",
        "#Caracteristicas da entrada\n",
        "FOREIGN_ALPHABET_PATH = 'Caracteres Chineses/top_3000_traditional.txt'#CAminho para lista de caracteres usada (não a fonte)\n",
        "INPUT_TTF_FILE_NAME = 'wt034.ttf' #Arquivo da fonte de entrada\n",
        "OUTPUT_TTF_FILE_NAME = 'wts11.ttf' #Arquivo da fonte de saida\n",
        "\n",
        "INPUT_IMG_SIDE = 160 #Tamanho do lado da imagem de entrada\n",
        "OUTPUT_IMG_SIDE = INPUT_IMG_SIDE//POOLING_PROPORTION #Tamanho do lado da imagem de saida \n",
        "INPUT_SHAPE = (INPUT_IMG_SIDE, INPUT_IMG_SIDE) #Formato da imagem de entrada\n",
        "OUTPUT_SHAPE = (OUTPUT_IMG_SIDE, OUTPUT_IMG_SIDE) #formato da imagem de saida\n",
        "\n",
        "FREE_EDGE = 2 #Borda usada para considerar se uma imagem foi ou não cortada\n",
        "CENTRALIZED_IMAGES = True #Diz se deve centralizar as imagens\n",
        "\n",
        "INPUT_FONT_SIZE = 157 #None para calcular automaticamente (Uns 20 segundoss a mais)\n",
        "OUTPUT_FONT_SIZE = 74 #None para calcular automaticamente (Uns 20 segundoss a mais)\n",
        "\n",
        "IMAGE_TYPE = '1' #'1' para imagem binaria, 'L' para grayscale \n",
        "BACKGROUND_VALUE = 1 #1 para imagem binaria, 255 para grayscale\n",
        "\n",
        "#Outros\n",
        "RESULTS_PATH = '/content/gdrive/Team Drives/EA979/Results/'#Caminho para resultados\n",
        "\n",
        "TRAIN_VALIDATE_SET_SIZE = None #Numero de elementos para serem usados no treino e validação (de preferência par), None para usar tudo\n",
        "\n",
        "NUM_FOREIGN_TEST = None #Numero de caracteres entrangeiros usados no conjunto de teste. None para ser o numero de caracteres nao estrangeiros"
      ],
      "execution_count": 0,
      "outputs": []
    },
    {
      "cell_type": "markdown",
      "metadata": {
        "id": "XWWPvAJQxCeC",
        "colab_type": "text"
      },
      "source": [
        "Abre drive"
      ]
    },
    {
      "cell_type": "code",
      "metadata": {
        "id": "3m7Lj0_nxBp9",
        "colab_type": "code",
        "outputId": "ff73d367-0763-4441-cc3e-e697025663b3",
        "colab": {
          "base_uri": "https://localhost:8080/",
          "height": 36
        }
      },
      "source": [
        "drive.mount('/content/gdrive')"
      ],
      "execution_count": 0,
      "outputs": [
        {
          "output_type": "stream",
          "text": [
            "Drive already mounted at /content/gdrive; to attempt to forcibly remount, call drive.mount(\"/content/gdrive\", force_remount=True).\n"
          ],
          "name": "stdout"
        }
      ]
    },
    {
      "cell_type": "markdown",
      "metadata": {
        "id": "oKZ_3jFGqF0r",
        "colab_type": "text"
      },
      "source": [
        "Salva caminhos para os dados"
      ]
    },
    {
      "cell_type": "code",
      "metadata": {
        "id": "HY8pMQrcwmfH",
        "colab_type": "code",
        "colab": {}
      },
      "source": [
        "root_path_output_ttf = '/content/gdrive/Team Drives/EA979/fontesTTF/' + INPUT_TTF_FILE_NAME #fonte de entrada\n",
        "root_path_input_ttf = '/content/gdrive/Team Drives/EA979/fontesTTF/' + OUTPUT_TTF_FILE_NAME #fonte de saida\n",
        "root_path_foreign_alphabet = '/content/gdrive/Team Drives/EA979/' + FOREIGN_ALPHABET_PATH #lista de caracteres no alfabeto usado"
      ],
      "execution_count": 0,
      "outputs": []
    },
    {
      "cell_type": "markdown",
      "metadata": {
        "id": "fatiuztulgws",
        "colab_type": "text"
      },
      "source": [
        "Funções para salvar texto no relatorio e imagens (nomes começando com o nome do experimento) "
      ]
    },
    {
      "cell_type": "code",
      "metadata": {
        "id": "Wf2tBhytcp8O",
        "colab_type": "code",
        "colab": {}
      },
      "source": [
        "def saveText(text):\n",
        "  f = open(RESULTS_PATH + EXPERIMENT_NAME + '.txt', \"a\")\n",
        "  f.write(text + '\\n')\n",
        "  f.close()"
      ],
      "execution_count": 0,
      "outputs": []
    },
    {
      "cell_type": "code",
      "metadata": {
        "id": "G4orWKS_dOf9",
        "colab_type": "code",
        "colab": {}
      },
      "source": [
        "def saveImage(img, name, description):\n",
        "  #Salva imagem na pasta\n",
        "  ski.io.imsave(RESULTS_PATH + EXPERIMENT_NAME + '_' + name + '.png', img)\n",
        "  #Salva descrição e nome da imagem no relatório\n",
        "  f = open(RESULTS_PATH + EXPERIMENT_NAME + '.txt', \"a\")\n",
        "  f.write(description + ': ' + name + '.png \\n')\n",
        "  f.close()"
      ],
      "execution_count": 0,
      "outputs": []
    },
    {
      "cell_type": "code",
      "metadata": {
        "id": "FPjEb4_46xVP",
        "colab_type": "code",
        "colab": {}
      },
      "source": [
        "def saveGraph(name, description):\n",
        "  #Salva imagem na pasta\n",
        "  plt.savefig(RESULTS_PATH + EXPERIMENT_NAME + '_' + name + '.png')\n",
        "  #Salva descrição e nome da imagem no relatório\n",
        "  f = open(RESULTS_PATH + EXPERIMENT_NAME + '.txt', \"a\")\n",
        "  f.write(description + ': ' + name + '.png \\n')\n",
        "  f.close()"
      ],
      "execution_count": 0,
      "outputs": []
    },
    {
      "cell_type": "markdown",
      "metadata": {
        "id": "H7R6dV50qOp3",
        "colab_type": "text"
      },
      "source": [
        "\"Cria lista de imagens da fonte selecionada\""
      ]
    },
    {
      "cell_type": "code",
      "metadata": {
        "id": "NvCMwnd8zTuE",
        "colab_type": "code",
        "colab": {}
      },
      "source": [
        "#Define alfabetos usados\n",
        "      \n",
        "#lista de caracteres romanos e numerais\n",
        "romanCharsLower = 'a b c d e f g h i j k l m n o p q r s t u v w x y z'.split()\n",
        "romanCharsUpper = 'A B C D E F G H I J K L M N O P Q R S T U V W X Y Z'.split()\n",
        "numerals = '0 1 2 3 4 5 6 7 8 9'.split()\n",
        "\n",
        "#Numero de caracteres nao estrangeiros\n",
        "nonForeignLen = len(romanCharsLower) + len(romanCharsUpper) + len(numerals)\n",
        "\n",
        "#lista caracteres estrangeiros\n",
        "if len(root_path_foreign_alphabet) != 0:\n",
        "  foreignChars = open(root_path_foreign_alphabet).read().split()\n",
        "else:\n",
        "  foreignChars = []"
      ],
      "execution_count": 0,
      "outputs": []
    },
    {
      "cell_type": "code",
      "metadata": {
        "id": "3I8epjxhrTYA",
        "colab_type": "code",
        "colab": {}
      },
      "source": [
        "#Retorna imagem do caractere \n",
        "def drawChar(char, shape, font):\n",
        "  img = Image.new(IMAGE_TYPE, shape, BACKGROUND_VALUE)\n",
        "  draw = ImageDraw.Draw(img)\n",
        "  draw.text((FREE_EDGE + 1, FREE_EDGE + 1),char, 0 ,font=font)\n",
        "  draw = ImageDraw.Draw(img)\n",
        "  return np.array(img)"
      ],
      "execution_count": 0,
      "outputs": []
    },
    {
      "cell_type": "code",
      "metadata": {
        "id": "BJsCs1yKPkUs",
        "colab_type": "code",
        "colab": {}
      },
      "source": [
        "#Verifica se o caractere nnão esta cortado (verifica se borda da imagem é branca)\n",
        "def fullCharacterExposed(img):\n",
        "  for index in range(0, FREE_EDGE):\n",
        "    if False in (img[index, :] == BACKGROUND_VALUE):\n",
        "      return False\n",
        "    if False in (img[img.shape[0] - 1 - index, :] == BACKGROUND_VALUE):\n",
        "      return False\n",
        "    if False in (img[:, index] == BACKGROUND_VALUE):\n",
        "      return False\n",
        "    if False in (img[:, img.shape[1] - 1 - index] == BACKGROUND_VALUE):\n",
        "      return False\n",
        "    \n",
        "  return True"
      ],
      "execution_count": 0,
      "outputs": []
    },
    {
      "cell_type": "code",
      "metadata": {
        "id": "KQeOBOPcq4J1",
        "colab_type": "code",
        "colab": {}
      },
      "source": [
        "#Centraliza o caractere na imagem\n",
        "\n",
        "import numpy as np\n",
        "import math\n",
        "\n",
        "def centralizeImage(img):\n",
        "  original_shape = img.shape\n",
        "  if(len(original_shape) >  2):\n",
        "    img = img.reshape(original_shape[0], original_shape[1])\n",
        "  \n",
        "  left_limit = 0\n",
        "  while(left_limit < img.shape[1] and (False not in (img[:,left_limit] == BACKGROUND_VALUE))):\n",
        "    left_limit += 1\n",
        "\n",
        "  right_limit = img.shape[1] - 1\n",
        "  while(right_limit >= 0 and (False not in (img[:,right_limit] == BACKGROUND_VALUE))):\n",
        "    right_limit -= 1\n",
        "  \n",
        "  upper_limit = 0\n",
        "  while(upper_limit < img.shape[0] and (False not in (img[upper_limit,:] == BACKGROUND_VALUE))):\n",
        "    upper_limit += 1\n",
        "  \n",
        "  lower_limit = img.shape[0] - 1\n",
        "  while(lower_limit >= 0 and (False not in (img[lower_limit,:] == BACKGROUND_VALUE))):\n",
        "    lower_limit -= 1\n",
        "  \n",
        "  hshift = math.ceil((img.shape[1] - right_limit - left_limit - 1)/2)\n",
        "  vshift = math.ceil((img.shape[0] - lower_limit - upper_limit - 1)/2)\n",
        "  \n",
        "  hpadding = np.zeros((img.shape[0], abs(hshift)), np.uint8)\n",
        "  hpadding[:, :] = BACKGROUND_VALUE\n",
        "\n",
        "  if hshift > 1:\n",
        "    img = np.hstack((hpadding, img[:, :-hshift]))\n",
        "                    \n",
        "  elif hshift < -1:\n",
        "    img = np.hstack((img[:, -hshift:], hpadding))\n",
        "\n",
        "  vpadding = np.zeros((abs(vshift), img.shape[0]), np.uint8)\n",
        "  vpadding[:, :] = BACKGROUND_VALUE\n",
        "\n",
        "  if vshift > 1:\n",
        "    img = np.vstack((vpadding, img[:-vshift, :]))\n",
        "\n",
        "  elif vshift < -1:\n",
        "    img = np.vstack((img[-vshift:, :], vpadding))\n",
        "\n",
        "  return img.reshape(original_shape)    "
      ],
      "execution_count": 0,
      "outputs": []
    },
    {
      "cell_type": "code",
      "metadata": {
        "id": "czQ5Bca8SkkO",
        "colab_type": "code",
        "colab": {}
      },
      "source": [
        "#Gera lista de imagens com os caracteres ja gerados na fonte selecionada\n",
        "\n",
        "def generateImageList(font, shape):\n",
        "  image_list = []\n",
        "  \n",
        "  for char in romanCharsUpper:\n",
        "    img = drawChar(char, shape, font)\n",
        "    image_list.append(img)\n",
        "  \n",
        "  for char in romanCharsLower:\n",
        "    img = drawChar(char, shape, font)\n",
        "    image_list.append(img)\n",
        "    \n",
        "  for char in numerals:\n",
        "    img = drawChar(char, shape, font)\n",
        "    image_list.append(img)\n",
        "  \n",
        "  for char in foreignChars:\n",
        "    img = drawChar(char, shape, font)\n",
        "    image_list.append(img)\n",
        "  \n",
        "  if CENTRALIZED_IMAGES:\n",
        "    for index in range(0, len(image_list)):\n",
        "      image_list[index] = centralizeImage(image_list[index])\n",
        "  \n",
        "  return image_list"
      ],
      "execution_count": 0,
      "outputs": []
    },
    {
      "cell_type": "code",
      "metadata": {
        "id": "s9g90tQKXtuH",
        "colab_type": "code",
        "colab": {}
      },
      "source": [
        "#Retorna maior tamanho de fonte que nao ultrapasse os limites do formato definifo\n",
        "\n",
        "import skimage as ski\n",
        "def bestFontSize(font_path, shape):\n",
        "  #Faz busca binaria no tamanho da fonte\n",
        "  min_size = 1\n",
        "  max_size = max(shape[0], shape[1])\n",
        "  while min_size < max_size:\n",
        "    mid = (min_size + max_size + 1)//2\n",
        "    font = ImageFont.truetype(font_path, size = mid)\n",
        "    image_list = generateImageList(font, shape)\n",
        "    list_ok = True\n",
        "    for element in image_list:\n",
        "      if fullCharacterExposed(element) == False:\n",
        "        list_ok = False\n",
        "        break\n",
        "    \n",
        "    if list_ok:\n",
        "      min_size = mid\n",
        "    \n",
        "    else:\n",
        "      max_size = mid - 1\n",
        "  \n",
        "  return min_size\n",
        "        "
      ],
      "execution_count": 0,
      "outputs": []
    },
    {
      "cell_type": "code",
      "metadata": {
        "id": "kYyOj-GiTpMD",
        "colab_type": "code",
        "outputId": "2d500f5d-9186-400e-c176-ad54bce9594e",
        "colab": {
          "base_uri": "https://localhost:8080/",
          "height": 55
        }
      },
      "source": [
        "#Se os tamanhos das fontes nao forem definidos na entrada, encontra valores para esses\n",
        "if INPUT_FONT_SIZE == None:\n",
        "  INPUT_FONT_SIZE = bestFontSize(root_path_input_ttf, INPUT_SHAPE)\n",
        "  \n",
        "if OUTPUT_FONT_SIZE == None:\n",
        "  OUTPUT_FONT_SIZE = bestFontSize(root_path_output_ttf, OUTPUT_SHAPE)\n",
        "\n",
        "print(INPUT_FONT_SIZE)\n",
        "print(OUTPUT_FONT_SIZE)"
      ],
      "execution_count": 0,
      "outputs": [
        {
          "output_type": "stream",
          "text": [
            "157\n",
            "74\n"
          ],
          "name": "stdout"
        }
      ]
    },
    {
      "cell_type": "code",
      "metadata": {
        "id": "95XMZZIt1BRz",
        "colab_type": "code",
        "colab": {}
      },
      "source": [
        "#Gera fontes\n",
        "inputFont = ImageFont.truetype(root_path_input_ttf, size = INPUT_FONT_SIZE) #Importa fonte usada\n",
        "outputFont = ImageFont.truetype(root_path_output_ttf, size = OUTPUT_FONT_SIZE) #Importa fonte usada"
      ],
      "execution_count": 0,
      "outputs": []
    },
    {
      "cell_type": "code",
      "metadata": {
        "id": "KOPATwcTDQiL",
        "colab_type": "code",
        "colab": {}
      },
      "source": [
        "#Gera listas de imagens\n",
        "input_images = generateImageList(inputFont, INPUT_SHAPE)\n",
        "output_images = generateImageList(outputFont, OUTPUT_SHAPE)"
      ],
      "execution_count": 0,
      "outputs": []
    },
    {
      "cell_type": "markdown",
      "metadata": {
        "id": "Uz8uZnHKvtE9",
        "colab_type": "text"
      },
      "source": [
        "Transforma lista de imagens em vetor numpy"
      ]
    },
    {
      "cell_type": "code",
      "metadata": {
        "id": "eNWaRZ8E-hwo",
        "colab_type": "code",
        "colab": {}
      },
      "source": [
        "#Passa lista de imagens para tensor unico\n",
        "\n",
        "import numpy as np\n",
        "\n",
        "def imageList2NumpyList(image_list):\n",
        "  numpy_list = []\n",
        "  for index in range(0, len(image_list)):\n",
        "    tensor = np.zeros(image_list[index].shape, np.uint8) #Cria vetor\n",
        "    tensor = image_list[index] #atribui valores da image\n",
        "    tensor = tensor.reshape(tensor.shape[0], tensor.shape[1], 1) #Adiciona dimensão para numero de canais\n",
        "    numpy_list.append(tensor)\n",
        "  return numpy_list\n",
        "    "
      ],
      "execution_count": 0,
      "outputs": []
    },
    {
      "cell_type": "code",
      "metadata": {
        "id": "MuCwMzK3EZ06",
        "colab_type": "code",
        "colab": {}
      },
      "source": [
        "#Passa lista de imagens para tensor unico\n",
        "\n",
        "input_tensors = np.array(imageList2NumpyList(input_images))\n",
        "output_tensors = np.array(imageList2NumpyList(output_images))"
      ],
      "execution_count": 0,
      "outputs": []
    },
    {
      "cell_type": "markdown",
      "metadata": {
        "id": "LY-n1xLH2bkM",
        "colab_type": "text"
      },
      "source": [
        "Separa conjunto de treinamento, validação e de teste"
      ]
    },
    {
      "cell_type": "code",
      "metadata": {
        "id": "4E29qxmI06mQ",
        "colab_type": "code",
        "colab": {}
      },
      "source": [
        "#Conjunto inicial de indices\n",
        "valid_indexes = [x for x in range(nonForeignLen, len(input_tensors))]\n",
        "\n",
        "remaining_indexes = []\n",
        "\n",
        "#Elimina imagens que nao foram corretamente carregadas\n",
        "for index in valid_indexes:\n",
        "  if (input_tensors[index] != BACKGROUND_VALUE).any() and (output_tensors[index] != BACKGROUND_VALUE).any():\n",
        "    remaining_indexes.append(index)\n",
        "\n",
        "#Salva numero de caracteres que não foram abertos corretamente\n",
        "saveText(\"Caracteres não lidos:\" + str(len(valid_indexes) - len(remaining_indexes)) + '/' + str(len(valid_indexes)))  \n",
        "\n",
        "#Se especificado, escolhe subconjunto dos indices pra usar no treinamento/validação\n",
        "if TRAIN_VALIDATE_SET_SIZE:\n",
        "   remaining_indexes = random.sample(remaining_indexes, TRAIN_VALIDATE_SET_SIZE)\n",
        "    \n",
        "#Gera conjunto de indices de teste\n",
        "test_indexes = [x for x in range(0, nonForeignLen)] #Adiciona caracteres romanos e numerais\n",
        "if NUM_FOREIGN_TEST == None:\n",
        "  NUM_FOREIGN_TEST = nonForeignLen\n",
        "foreign_test_indexes = random.sample(remaining_indexes, NUM_FOREIGN_TEST) #extraindo exemplos do caracteres extrangeiros\n",
        "for element in foreign_test_indexes: #Remove da lista de indices disponiveis\n",
        "  remaining_indexes.remove(element)\n",
        "test_indexes += foreign_test_indexes\n",
        "if len(remaining_indexes)%2 == 1: #garante que conjunto restante seja par\n",
        "  test_indexes.append(remaining_indexes[0])\n",
        "  remaining_indexes.remove(remaining_indexes[0])\n",
        "  \n",
        "#Gera conjunto de teste \n",
        "test_input = []\n",
        "test_output = []  \n",
        "for index in test_indexes:\n",
        "  test_input.append(input_tensors[index])\n",
        "  test_output.append(output_tensors[index])  \n",
        "test_input = np.array(test_input)\n",
        "test_output = np.array(test_output)  \n",
        "\n",
        "\n",
        "#Gera conjunto de indices de treinamento\n",
        "train_size = len(remaining_indexes)//2\n",
        "train_indexes = random.sample(remaining_indexes, train_size) #extraindo metade dos exemplos para treino\n",
        "for element in train_indexes: #Remove da lista de indices disponiveis\n",
        "  remaining_indexes.remove(element)\n",
        "\n",
        "#Gera conjunto de treinamento \n",
        "train_input = []\n",
        "train_output = []  \n",
        "for index in train_indexes:\n",
        "  train_input.append(input_tensors[index])\n",
        "  train_output.append(output_tensors[index])  \n",
        "train_input = np.array(train_input)\n",
        "train_output = np.array(train_output)  \n",
        "\n",
        "\n",
        "#Gera conjunto de validação \n",
        "validate_input = []\n",
        "validate_output = []  \n",
        "for index in remaining_indexes:\n",
        "  validate_input.append(input_tensors[index])\n",
        "  validate_output.append(output_tensors[index])  \n",
        "validate_input = np.array(validate_input)\n",
        "validate_output = np.array(validate_output)  \n"
      ],
      "execution_count": 0,
      "outputs": []
    },
    {
      "cell_type": "code",
      "metadata": {
        "id": "UGwmcKrNKsEV",
        "colab_type": "code",
        "colab": {}
      },
      "source": [
        "#Gera conjuntos de validação e treinamento (usar aqui para data augmentation)\n",
        "from keras.preprocessing.image import ImageDataGenerator\n",
        "\n",
        "datagen = ImageDataGenerator()\n",
        "\n",
        "datagen.fit(train_input)\n",
        "\n",
        "valgen = ImageDataGenerator()\n",
        "\n",
        "valgen.fit(validate_input)"
      ],
      "execution_count": 0,
      "outputs": []
    },
    {
      "cell_type": "markdown",
      "metadata": {
        "id": "wVqpgJpTnq88",
        "colab_type": "text"
      },
      "source": [
        "Arquitetura da rede"
      ]
    },
    {
      "cell_type": "code",
      "metadata": {
        "id": "ltciEyo1gBfA",
        "colab_type": "code",
        "outputId": "fe1f35c4-6ba9-4b48-8ed7-d513856a864f",
        "colab": {
          "base_uri": "https://localhost:8080/",
          "height": 1748
        }
      },
      "source": [
        " from __future__ import print_function\n",
        "import keras\n",
        "from keras.datasets import cifar10\n",
        "from keras.preprocessing.image import ImageDataGenerator\n",
        "from keras.models import Sequential\n",
        "from keras.layers import Dense, Dropout, Activation, Flatten, LeakyReLU\n",
        "from keras.layers import Conv2D, MaxPooling2D, BatchNormalization, Conv1D\n",
        "import os\n",
        "\n",
        "model = Sequential()\n",
        "\n",
        "#Cadadas convolucionais de entrada\n",
        "model.add(Conv2D(8, (64, 64), input_shape=INPUT_SHAPE + (1,), padding='same'))\n",
        "model.add(LeakyReLU(alpha=0.2))\n",
        "model.add(BatchNormalization(axis=-1, momentum=0.9, epsilon=0.01))\n",
        "model.add(Conv2D(8, (64, 64), padding='same'))\n",
        "model.add(LeakyReLU(alpha=0.2))\n",
        "model.add(BatchNormalization(axis=-1, momentum=0.9, epsilon=0.01))\n",
        "          \n",
        "#Camadas convolucionais repetidas          \n",
        "for i in range (0, N_LAYERS):\n",
        "  model.add(Conv2D(32, (32, 32), padding='same'))\n",
        "  model.add(LeakyReLU(alpha=0.2))\n",
        "  model.add(BatchNormalization(axis=-1, momentum=0.9, epsilon=0.01))\n",
        "\n",
        "for i in range(0, N_LAYERS):\n",
        "  model.add(Conv2D(64, (16, 16), padding='same'))\n",
        "  model.add(LeakyReLU(alpha=0.2))\n",
        "  model.add(BatchNormalization(axis=-1, momentum=0.9, epsilon=0.01))\n",
        "\n",
        "for i in range(0, N_LAYERS):\n",
        "  model.add(Conv2D(128, (7, 7), padding='same'))\n",
        "  model.add(LeakyReLU(alpha=0.2))\n",
        "  model.add(BatchNormalization(axis=-1, momentum=0.9, epsilon=0.01))\n",
        "\n",
        "#Camadas convolucionais de saida\n",
        "model.add(Conv2D(128, (3, 3), padding='same'))\n",
        "model.add(LeakyReLU(alpha=0.2))\n",
        "model.add(BatchNormalization(axis=-1, momentum=0.9, epsilon=0.01))\n",
        "model.add(Conv2D(1, (3, 3), padding='same'))\n",
        "model.add(BatchNormalization(axis=-1, momentum=0.9, epsilon=0.01))\n",
        "\n",
        "#Reduz dimensões da saida\n",
        "model.add(MaxPooling2D(pool_size=POOLING_SHAPE))  \n",
        "\n",
        "#Define dropout e ativação\n",
        "model.add(Dropout(DROPOUT_RATE))\n",
        "model.add(Activation(ACTIVATION_FUNCTION))\n",
        "\n",
        "#Imprime dados do modelo           \n",
        "model.summary()\n"
      ],
      "execution_count": 0,
      "outputs": [
        {
          "output_type": "stream",
          "text": [
            "_________________________________________________________________\n",
            "Layer (type)                 Output Shape              Param #   \n",
            "=================================================================\n",
            "conv2d_11 (Conv2D)           (None, 160, 160, 8)       32776     \n",
            "_________________________________________________________________\n",
            "leaky_re_lu_11 (LeakyReLU)   (None, 160, 160, 8)       0         \n",
            "_________________________________________________________________\n",
            "batch_normalization_11 (Batc (None, 160, 160, 8)       32        \n",
            "_________________________________________________________________\n",
            "conv2d_12 (Conv2D)           (None, 160, 160, 8)       262152    \n",
            "_________________________________________________________________\n",
            "leaky_re_lu_12 (LeakyReLU)   (None, 160, 160, 8)       0         \n",
            "_________________________________________________________________\n",
            "batch_normalization_12 (Batc (None, 160, 160, 8)       32        \n",
            "_________________________________________________________________\n",
            "conv2d_13 (Conv2D)           (None, 160, 160, 32)      262176    \n",
            "_________________________________________________________________\n",
            "leaky_re_lu_13 (LeakyReLU)   (None, 160, 160, 32)      0         \n",
            "_________________________________________________________________\n",
            "batch_normalization_13 (Batc (None, 160, 160, 32)      128       \n",
            "_________________________________________________________________\n",
            "conv2d_14 (Conv2D)           (None, 160, 160, 32)      1048608   \n",
            "_________________________________________________________________\n",
            "leaky_re_lu_14 (LeakyReLU)   (None, 160, 160, 32)      0         \n",
            "_________________________________________________________________\n",
            "batch_normalization_14 (Batc (None, 160, 160, 32)      128       \n",
            "_________________________________________________________________\n",
            "conv2d_15 (Conv2D)           (None, 160, 160, 32)      1048608   \n",
            "_________________________________________________________________\n",
            "leaky_re_lu_15 (LeakyReLU)   (None, 160, 160, 32)      0         \n",
            "_________________________________________________________________\n",
            "batch_normalization_15 (Batc (None, 160, 160, 32)      128       \n",
            "_________________________________________________________________\n",
            "conv2d_16 (Conv2D)           (None, 160, 160, 64)      524352    \n",
            "_________________________________________________________________\n",
            "leaky_re_lu_16 (LeakyReLU)   (None, 160, 160, 64)      0         \n",
            "_________________________________________________________________\n",
            "batch_normalization_16 (Batc (None, 160, 160, 64)      256       \n",
            "_________________________________________________________________\n",
            "conv2d_17 (Conv2D)           (None, 160, 160, 64)      1048640   \n",
            "_________________________________________________________________\n",
            "leaky_re_lu_17 (LeakyReLU)   (None, 160, 160, 64)      0         \n",
            "_________________________________________________________________\n",
            "batch_normalization_17 (Batc (None, 160, 160, 64)      256       \n",
            "_________________________________________________________________\n",
            "conv2d_18 (Conv2D)           (None, 160, 160, 64)      1048640   \n",
            "_________________________________________________________________\n",
            "leaky_re_lu_18 (LeakyReLU)   (None, 160, 160, 64)      0         \n",
            "_________________________________________________________________\n",
            "batch_normalization_18 (Batc (None, 160, 160, 64)      256       \n",
            "_________________________________________________________________\n",
            "conv2d_19 (Conv2D)           (None, 160, 160, 128)     401536    \n",
            "_________________________________________________________________\n",
            "leaky_re_lu_19 (LeakyReLU)   (None, 160, 160, 128)     0         \n",
            "_________________________________________________________________\n",
            "batch_normalization_19 (Batc (None, 160, 160, 128)     512       \n",
            "_________________________________________________________________\n",
            "conv2d_20 (Conv2D)           (None, 160, 160, 128)     802944    \n",
            "_________________________________________________________________\n",
            "leaky_re_lu_20 (LeakyReLU)   (None, 160, 160, 128)     0         \n",
            "_________________________________________________________________\n",
            "batch_normalization_20 (Batc (None, 160, 160, 128)     512       \n",
            "_________________________________________________________________\n",
            "conv2d_21 (Conv2D)           (None, 160, 160, 128)     802944    \n",
            "_________________________________________________________________\n",
            "leaky_re_lu_21 (LeakyReLU)   (None, 160, 160, 128)     0         \n",
            "_________________________________________________________________\n",
            "batch_normalization_21 (Batc (None, 160, 160, 128)     512       \n",
            "_________________________________________________________________\n",
            "conv2d_22 (Conv2D)           (None, 160, 160, 128)     147584    \n",
            "_________________________________________________________________\n",
            "leaky_re_lu_22 (LeakyReLU)   (None, 160, 160, 128)     0         \n",
            "_________________________________________________________________\n",
            "batch_normalization_22 (Batc (None, 160, 160, 128)     512       \n",
            "_________________________________________________________________\n",
            "conv2d_23 (Conv2D)           (None, 160, 160, 1)       1153      \n",
            "_________________________________________________________________\n",
            "batch_normalization_23 (Batc (None, 160, 160, 1)       4         \n",
            "_________________________________________________________________\n",
            "max_pooling2d_2 (MaxPooling2 (None, 80, 80, 1)         0         \n",
            "_________________________________________________________________\n",
            "dropout_2 (Dropout)          (None, 80, 80, 1)         0         \n",
            "_________________________________________________________________\n",
            "activation_2 (Activation)    (None, 80, 80, 1)         0         \n",
            "=================================================================\n",
            "Total params: 7,435,381\n",
            "Trainable params: 7,433,747\n",
            "Non-trainable params: 1,634\n",
            "_________________________________________________________________\n"
          ],
          "name": "stdout"
        },
        {
          "output_type": "stream",
          "text": [
            "/usr/local/lib/python3.6/dist-packages/keras/activations.py:211: UserWarning: Do not pass a layer instance (such as LeakyReLU) as the activation argument of another layer. Instead, advanced activation layers should be used just like any other layer in a model.\n",
            "  identifier=identifier.__class__.__name__))\n"
          ],
          "name": "stderr"
        }
      ]
    },
    {
      "cell_type": "markdown",
      "metadata": {
        "id": "W8uf1peSoIvl",
        "colab_type": "text"
      },
      "source": [
        "Compila modelo"
      ]
    },
    {
      "cell_type": "code",
      "metadata": {
        "id": "QepL_8VjmZiY",
        "colab_type": "code",
        "colab": {}
      },
      "source": [
        "# Let's train the model using RMSprop\n",
        "model.compile(loss=LOSS_FUNCTION,\n",
        "              optimizer=OPTMIZER,\n",
        "              metrics=METRICS_LIST)"
      ],
      "execution_count": 0,
      "outputs": []
    },
    {
      "cell_type": "markdown",
      "metadata": {
        "id": "VDLgnLQsoLMN",
        "colab_type": "text"
      },
      "source": [
        "Treina modelo"
      ]
    },
    {
      "cell_type": "code",
      "metadata": {
        "id": "InDly4TXKXak",
        "colab_type": "code",
        "outputId": "6ed9295d-713e-4dd9-ea5e-8664a6bbfbad",
        "colab": {
          "base_uri": "https://localhost:8080/",
          "height": 1145
        }
      },
      "source": [
        "history = model.fit_generator(datagen.flow(train_input, train_output, batch_size=BATCH_SIZE),\n",
        "                    validation_data=valgen.flow(validate_input, validate_output, batch_size=BATCH_SIZE), \n",
        "                    steps_per_epoch=len(train_input)/BATCH_SIZE, \n",
        "                    validation_steps = len(validate_input)/BATCH_SIZE,\n",
        "                    epochs=EPOCHS_NUM,\n",
        "                    verbose=1)"
      ],
      "execution_count": 0,
      "outputs": [
        {
          "output_type": "stream",
          "text": [
            "Epoch 1/30\n",
            "361/360 [==============================] - 328s 908ms/step - loss: 0.1270 - mean_squared_error: 0.3029 - val_loss: 0.0749 - val_mean_squared_error: 0.1792\n",
            "Epoch 2/30\n",
            "361/360 [==============================] - 325s 899ms/step - loss: 0.1132 - mean_squared_error: 0.2437 - val_loss: 0.0780 - val_mean_squared_error: 0.1880\n",
            "Epoch 3/30\n",
            "361/360 [==============================] - 325s 900ms/step - loss: 0.1116 - mean_squared_error: 0.2360 - val_loss: 0.0676 - val_mean_squared_error: 0.1580\n",
            "Epoch 4/30\n",
            "361/360 [==============================] - 325s 900ms/step - loss: 0.1110 - mean_squared_error: 0.2336 - val_loss: 0.0728 - val_mean_squared_error: 0.1747\n",
            "Epoch 5/30\n",
            "361/360 [==============================] - 325s 899ms/step - loss: 0.1105 - mean_squared_error: 0.2321 - val_loss: 0.0674 - val_mean_squared_error: 0.1586\n",
            "Epoch 6/30\n",
            "361/360 [==============================] - 325s 900ms/step - loss: 0.1101 - mean_squared_error: 0.2311 - val_loss: 0.0659 - val_mean_squared_error: 0.1535\n",
            "Epoch 7/30\n",
            "361/360 [==============================] - 325s 900ms/step - loss: 0.1098 - mean_squared_error: 0.2303 - val_loss: 0.0705 - val_mean_squared_error: 0.1680\n",
            "Epoch 8/30\n",
            "361/360 [==============================] - 326s 902ms/step - loss: 0.1095 - mean_squared_error: 0.2298 - val_loss: 0.0662 - val_mean_squared_error: 0.1551\n",
            "Epoch 9/30\n",
            "361/360 [==============================] - 325s 900ms/step - loss: 0.1093 - mean_squared_error: 0.2294 - val_loss: 0.0646 - val_mean_squared_error: 0.1458\n",
            "Epoch 10/30\n",
            "361/360 [==============================] - 325s 901ms/step - loss: 0.1091 - mean_squared_error: 0.2288 - val_loss: 0.0654 - val_mean_squared_error: 0.1525\n",
            "Epoch 11/30\n",
            "361/360 [==============================] - 325s 900ms/step - loss: 0.1089 - mean_squared_error: 0.2285 - val_loss: 0.0662 - val_mean_squared_error: 0.1563\n",
            "Epoch 12/30\n",
            "361/360 [==============================] - 325s 900ms/step - loss: 0.1087 - mean_squared_error: 0.2281 - val_loss: 0.0638 - val_mean_squared_error: 0.1474\n",
            "Epoch 13/30\n",
            "361/360 [==============================] - 325s 901ms/step - loss: 0.1086 - mean_squared_error: 0.2278 - val_loss: 0.0606 - val_mean_squared_error: 0.1374\n",
            "Epoch 14/30\n",
            "361/360 [==============================] - 325s 901ms/step - loss: 0.1085 - mean_squared_error: 0.2275 - val_loss: 0.0632 - val_mean_squared_error: 0.1466\n",
            "Epoch 15/30\n",
            "361/360 [==============================] - 325s 901ms/step - loss: 0.1083 - mean_squared_error: 0.2273 - val_loss: 0.0668 - val_mean_squared_error: 0.1575\n",
            "Epoch 16/30\n",
            "361/360 [==============================] - 325s 901ms/step - loss: 0.1082 - mean_squared_error: 0.2271 - val_loss: 0.0619 - val_mean_squared_error: 0.1423\n",
            "Epoch 17/30\n",
            "361/360 [==============================] - 325s 900ms/step - loss: 0.1080 - mean_squared_error: 0.2266 - val_loss: 0.0659 - val_mean_squared_error: 0.1555\n",
            "Epoch 18/30\n",
            "361/360 [==============================] - 325s 901ms/step - loss: 0.1079 - mean_squared_error: 0.2263 - val_loss: 0.0631 - val_mean_squared_error: 0.1477\n",
            "Epoch 19/30\n",
            "361/360 [==============================] - 325s 900ms/step - loss: 0.1079 - mean_squared_error: 0.2264 - val_loss: 0.0628 - val_mean_squared_error: 0.1466\n",
            "Epoch 20/30\n",
            "361/360 [==============================] - 324s 898ms/step - loss: 0.1078 - mean_squared_error: 0.2262 - val_loss: 0.0655 - val_mean_squared_error: 0.1550\n",
            "Epoch 21/30\n",
            "361/360 [==============================] - 325s 899ms/step - loss: 0.1076 - mean_squared_error: 0.2258 - val_loss: 0.0613 - val_mean_squared_error: 0.1405\n",
            "Epoch 22/30\n",
            "361/360 [==============================] - 325s 900ms/step - loss: 0.1075 - mean_squared_error: 0.2254 - val_loss: 0.0635 - val_mean_squared_error: 0.1485\n",
            "Epoch 23/30\n",
            "361/360 [==============================] - 325s 899ms/step - loss: 0.1074 - mean_squared_error: 0.2253 - val_loss: 0.0651 - val_mean_squared_error: 0.1543\n",
            "Epoch 24/30\n",
            "361/360 [==============================] - 325s 900ms/step - loss: 0.1073 - mean_squared_error: 0.2250 - val_loss: 0.0623 - val_mean_squared_error: 0.1455\n",
            "Epoch 25/30\n",
            "361/360 [==============================] - 325s 900ms/step - loss: 0.1072 - mean_squared_error: 0.2248 - val_loss: 0.0613 - val_mean_squared_error: 0.1419\n",
            "Epoch 26/30\n",
            "361/360 [==============================] - 324s 899ms/step - loss: 0.1072 - mean_squared_error: 0.2248 - val_loss: 0.0617 - val_mean_squared_error: 0.1433\n",
            "Epoch 27/30\n",
            "361/360 [==============================] - 325s 899ms/step - loss: 0.1070 - mean_squared_error: 0.2244 - val_loss: 0.0624 - val_mean_squared_error: 0.1453\n",
            "Epoch 28/30\n",
            "361/360 [==============================] - 324s 898ms/step - loss: 0.1069 - mean_squared_error: 0.2243 - val_loss: 0.0624 - val_mean_squared_error: 0.1452\n",
            "Epoch 29/30\n",
            "361/360 [==============================] - 324s 898ms/step - loss: 0.1068 - mean_squared_error: 0.2241 - val_loss: 0.0612 - val_mean_squared_error: 0.1418\n",
            "Epoch 30/30\n",
            "361/360 [==============================] - 325s 899ms/step - loss: 0.1068 - mean_squared_error: 0.2240 - val_loss: 0.0636 - val_mean_squared_error: 0.1501\n"
          ],
          "name": "stdout"
        }
      ]
    },
    {
      "cell_type": "code",
      "metadata": {
        "id": "KXNIL0JTKcUJ",
        "colab_type": "code",
        "outputId": "2bec923e-4892-4242-d95c-8fdbe96eab3d",
        "colab": {
          "base_uri": "https://localhost:8080/",
          "height": 295
        }
      },
      "source": [
        "# Gera gráfico para funções de perda \n",
        "plt.plot(history.history['loss'])\n",
        "plt.plot(history.history['val_loss'])\n",
        "plt.title('model loss')\n",
        "plt.ylabel('loss')\n",
        "plt.xlabel('epoch')\n",
        "plt.legend(['train', 'validation'], loc='upper left')\n",
        "\n",
        "saveGraph('loss_graph', 'Train/Validation loss over epochs')"
      ],
      "execution_count": 0,
      "outputs": [
        {
          "output_type": "display_data",
          "data": {
            "image/png": "[encoded data removed]",
            "text/plain": [
              "<Figure size 432x288 with 1 Axes>"
            ]
          },
          "metadata": {
            "tags": []
          }
        }
      ]
    },
    {
      "cell_type": "code",
      "metadata": {
        "id": "uygi9trFg6WU",
        "colab_type": "code",
        "outputId": "236ba00a-2e14-45cd-a651-176c1a398d2d",
        "colab": {
          "base_uri": "https://localhost:8080/",
          "height": 295
        }
      },
      "source": [
        "# Cria gráficos para as outras métricas criadas\n",
        "for metric in history.history.keys():\n",
        "  if metric != 'loss' and metric.split('_')[0] != 'val':\n",
        "    plt.plot(history.history[metric])\n",
        "    plt.plot(history.history['val_' + metric])\n",
        "    plt.title('model ' + metric)\n",
        "    plt.ylabel(metric)\n",
        "    plt.xlabel('epoch')\n",
        "    plt.legend(['train', 'validation'], loc='upper left')\n",
        "\n",
        "    saveGraph(metric + '_graph', 'Train/Validation' + metric + ' over epochs')"
      ],
      "execution_count": 0,
      "outputs": [
        {
          "output_type": "display_data",
          "data": {
            "image/png": "[encoded data removed]",
            "text/plain": [
              "<Figure size 432x288 with 1 Axes>"
            ]
          },
          "metadata": {
            "tags": []
          }
        }
      ]
    },
    {
      "cell_type": "code",
      "metadata": {
        "id": "OX9W5H_5ki2l",
        "colab_type": "code",
        "outputId": "4ed3d62a-b4fa-4128-feb3-59c8774d124c",
        "colab": {
          "base_uri": "https://localhost:8080/",
          "height": 36
        }
      },
      "source": [
        "#Verifica loss e outras metricas no conjunto de teste\n",
        "test_results = model.evaluate(test_input, test_output)\n",
        "\n",
        "saveText(\"Complete evaluate: \" + str(test_results))"
      ],
      "execution_count": 0,
      "outputs": [
        {
          "output_type": "stream",
          "text": [
            "124/124 [==============================] - 2s 19ms/step\n"
          ],
          "name": "stdout"
        }
      ]
    },
    {
      "cell_type": "code",
      "metadata": {
        "id": "Ury-rRaXdW39",
        "colab_type": "code",
        "outputId": "e2d3c208-c3ea-4b46-eaec-80789dbe168e",
        "colab": {
          "base_uri": "https://localhost:8080/",
          "height": 36
        }
      },
      "source": [
        "#Verifica loss e outras metricas dos caracteres romanos e numerais no conjunto de teste\n",
        "test_results = model.evaluate(test_input[:nonForeignLen], test_output[:nonForeignLen])\n",
        "\n",
        "saveText(\"Non Foreign Characters Evaluate: \" + str(test_results))"
      ],
      "execution_count": 0,
      "outputs": [
        {
          "output_type": "stream",
          "text": [
            "62/62 [==============================] - 1s 19ms/step\n"
          ],
          "name": "stdout"
        }
      ]
    },
    {
      "cell_type": "code",
      "metadata": {
        "id": "bvfAy74OdpNh",
        "colab_type": "code",
        "outputId": "129b6426-ab4e-4ca7-a300-07acbe9f4f11",
        "colab": {
          "base_uri": "https://localhost:8080/",
          "height": 36
        }
      },
      "source": [
        "#Verifica loss e outras metricas dos caracteres romanos e numerais no conjunto de teste\n",
        "test_results = model.evaluate(test_input[nonForeignLen:], test_output[nonForeignLen:])\n",
        "\n",
        "saveText(\"Foreign Characters Evaluate: \" + str(test_results))"
      ],
      "execution_count": 0,
      "outputs": [
        {
          "output_type": "stream",
          "text": [
            "62/62 [==============================] - 1s 19ms/step\n"
          ],
          "name": "stdout"
        }
      ]
    },
    {
      "cell_type": "code",
      "metadata": {
        "id": "zc2fkpU-JpX3",
        "colab_type": "code",
        "colab": {}
      },
      "source": [
        "#Gera resultados para o conjunto de teste\n",
        "results = model.predict(test_input)"
      ],
      "execution_count": 0,
      "outputs": []
    },
    {
      "cell_type": "code",
      "metadata": {
        "id": "j2S12f80cQ6f",
        "colab_type": "code",
        "outputId": "08afa377-7422-4773-afa1-34dc0d4e9315",
        "colab": {
          "base_uri": "https://localhost:8080/",
          "height": 55
        }
      },
      "source": [
        "#Gera imagem com entrada, e outra com resultado esperado e resultado para conjunto de teste\n",
        "result_img = results[0].reshape(OUTPUT_SHAPE)\n",
        "\n",
        "for index in range(1, len(results)):\n",
        "  result_img = np.hstack((result_img, results[index].reshape(OUTPUT_SHAPE))) \n",
        "  \n",
        "expected_img = test_output[0].reshape(OUTPUT_SHAPE)\n",
        "\n",
        "for index in range(1, len(test_output)):\n",
        "  expected_img = np.hstack((expected_img, test_output[index].reshape(OUTPUT_SHAPE)))\n",
        "  \n",
        "comparation_img = np.vstack((expected_img, result_img))\n",
        "\n",
        "saveImage(comparation_img, \"test_results_complete\", \"Test results complete(expected/output)\")  \n",
        "  \n",
        "tested_img = test_input[0].reshape(INPUT_SHAPE)\n",
        "\n",
        "for index in range(1, len(test_output)):\n",
        "  tested_img = np.hstack((tested_img, test_input[index].reshape(INPUT_SHAPE)))\n",
        "  \n",
        "saveImage(np.array(tested_img, np.float64), \"test_inputs_complete\", \"Test inputs complete\")"
      ],
      "execution_count": 0,
      "outputs": [
        {
          "output_type": "stream",
          "text": [
            "W0614 22:52:27.776507 139891547682688 util.py:61] Lossy conversion from float32 to uint8. Range [-0.055437035858631134, 1.0]. Convert image to uint8 prior to saving to suppress this warning.\n",
            "W0614 22:52:28.487421 139891547682688 util.py:61] Lossy conversion from float64 to uint8. Range [0, 1]. Convert image to uint8 prior to saving to suppress this warning.\n"
          ],
          "name": "stderr"
        }
      ]
    },
    {
      "cell_type": "code",
      "metadata": {
        "id": "N83SqLMvnnpl",
        "colab_type": "code",
        "outputId": "23cc13e9-e445-4c03-dd83-52ae60b14b81",
        "colab": {
          "base_uri": "https://localhost:8080/",
          "height": 55
        }
      },
      "source": [
        "#Gera o mesmo que a função anterior, mas com menos exemplos para facilitar a visualização\n",
        "result_img = results[0].reshape(OUTPUT_SHAPE)\n",
        "\n",
        "for index in range(1, len(results), NUM_FOREIGN_TEST//14):\n",
        "  result_img = np.hstack((result_img, results[index].reshape(OUTPUT_SHAPE))) \n",
        "  \n",
        "expected_img = test_output[0].reshape(OUTPUT_SHAPE)\n",
        "\n",
        "for index in range(1, len(test_output), NUM_FOREIGN_TEST//14):\n",
        "  expected_img = np.hstack((expected_img, test_output[index].reshape(OUTPUT_SHAPE)))\n",
        "  \n",
        "comparation_img = np.vstack((expected_img, result_img))\n",
        "\n",
        "saveImage(comparation_img, \"test_results\", \"Test results (expected/output)\")  \n",
        "  \n",
        "tested_img = test_input[0].reshape(INPUT_SHAPE)\n",
        "\n",
        "for index in range(1, len(test_output), NUM_FOREIGN_TEST//14):\n",
        "  tested_img = np.hstack((tested_img, test_input[index].reshape(INPUT_SHAPE)))\n",
        "  \n",
        "saveImage(np.array(tested_img, np.float64), \"test_inputs\", \"Test inputs\")"
      ],
      "execution_count": 0,
      "outputs": [
        {
          "output_type": "stream",
          "text": [
            "W0614 22:52:28.834409 139891547682688 util.py:61] Lossy conversion from float32 to uint8. Range [-0.05129597708582878, 1.0]. Convert image to uint8 prior to saving to suppress this warning.\n",
            "W0614 22:52:29.006893 139891547682688 util.py:61] Lossy conversion from float64 to uint8. Range [0, 1]. Convert image to uint8 prior to saving to suppress this warning.\n"
          ],
          "name": "stderr"
        }
      ]
    },
    {
      "cell_type": "code",
      "metadata": {
        "id": "vcQU7XM-wGN1",
        "colab_type": "code",
        "outputId": "c4646010-fd12-46d0-97e1-bea8e89b1d34",
        "colab": {
          "base_uri": "https://localhost:8080/",
          "height": 119
        }
      },
      "source": [
        "#mostra entrada\n",
        "ski.io.imshow(tested_img)"
      ],
      "execution_count": 0,
      "outputs": [
        {
          "output_type": "stream",
          "text": [
            "/usr/local/lib/python3.6/dist-packages/skimage/io/_plugins/matplotlib_plugin.py:75: UserWarning: Low image data range; displaying image with stretched contrast.\n",
            "  warn(\"Low image data range; displaying image with \"\n"
          ],
          "name": "stderr"
        },
        {
          "output_type": "execute_result",
          "data": {
            "text/plain": [
              "<matplotlib.image.AxesImage at 0x7f3a5264c160>"
            ]
          },
          "metadata": {
            "tags": []
          },
          "execution_count": 69
        },
        {
          "output_type": "display_data",
          "data": {
            "image/png": "[encoded data removed]",
            "text/plain": [
              "<Figure size 432x288 with 2 Axes>"
            ]
          },
          "metadata": {
            "tags": []
          }
        }
      ]
    },
    {
      "cell_type": "code",
      "metadata": {
        "id": "uS07qyfjo2Mm",
        "colab_type": "code",
        "outputId": "cf9058e3-130e-4549-c4e6-e1e4fee517fc",
        "colab": {
          "base_uri": "https://localhost:8080/",
          "height": 92
        }
      },
      "source": [
        "#mostra resultado\n",
        "ski.io.imshow(comparation_img)"
      ],
      "execution_count": 0,
      "outputs": [
        {
          "output_type": "execute_result",
          "data": {
            "text/plain": [
              "<matplotlib.image.AxesImage at 0x7f3a525dcbe0>"
            ]
          },
          "metadata": {
            "tags": []
          },
          "execution_count": 70
        },
        {
          "output_type": "display_data",
          "data": {
            "image/png": "[encoded data removed]",
            "text/plain": [
              "<Figure size 432x288 with 2 Axes>"
            ]
          },
          "metadata": {
            "tags": []
          }
        }
      ]
    },
    {
      "cell_type": "markdown",
      "metadata": {
        "id": "1-OG_ajk7h8l",
        "colab_type": "text"
      },
      "source": [
        "Usar para visualizar caractere especifico"
      ]
    },
    {
      "cell_type": "markdown",
      "metadata": {
        "id": "jNcz6vfT7hxx",
        "colab_type": "text"
      },
      "source": [
        ""
      ]
    },
    {
      "cell_type": "code",
      "metadata": {
        "id": "GIUMH5v2NDqj",
        "colab_type": "code",
        "colab": {}
      },
      "source": [
        "def show_results(input_test, output_test, actual_output):\n",
        "  input_test = input_test.reshape(INPUT_SHAPE)\n",
        "  output_test = output_test.reshape(OUTPUT_SHAPE)\n",
        "  actual_output = actual_output.reshape(OUTPUT_SHAPE)\n",
        "  return ski.io.imshow_collection([input_test, output_test, actual_output])"
      ],
      "execution_count": 0,
      "outputs": []
    },
    {
      "cell_type": "code",
      "metadata": {
        "id": "kHgrdXy3QMCJ",
        "colab_type": "code",
        "outputId": "da98d37f-d25b-4a86-cc60-8ea5c35f8521",
        "colab": {
          "base_uri": "https://localhost:8080/",
          "height": 521
        }
      },
      "source": [
        "example_index = 10\n",
        "show_results(test_input[example_index], test_output[example_index], results[example_index])"
      ],
      "execution_count": 0,
      "outputs": [
        {
          "output_type": "execute_result",
          "data": {
            "image/png": "[encoded data removed]",
            "text/plain": [
              "<Figure size 432x288 with 4 Axes>"
            ]
          },
          "metadata": {
            "tags": []
          },
          "execution_count": 153
        },
        {
          "output_type": "display_data",
          "data": {
            "image/png": "[encoded data removed]",
            "text/plain": [
              "<Figure size 432x288 with 4 Axes>"
            ]
          },
          "metadata": {
            "tags": []
          }
        }
      ]
    }
  ]
}